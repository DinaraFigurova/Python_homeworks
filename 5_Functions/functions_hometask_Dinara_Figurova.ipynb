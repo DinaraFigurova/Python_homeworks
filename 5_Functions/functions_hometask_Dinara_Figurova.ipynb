{
 "cells": [
  {
   "cell_type": "markdown",
   "metadata": {},
   "source": [
    "Вы работаете секретарем и вам постоянно приходят различные документы. Вы должны быть очень внимательны, чтобы не потерять ни один документ. Каталог документов хранится в следующем виде:"
   ]
  },
  {
   "cell_type": "code",
   "execution_count": 1,
   "metadata": {},
   "outputs": [],
   "source": [
    "documents = [\n",
    "    {'type': 'passport', 'number': '2207 876234', 'name': 'Василий Гупкин'},\n",
    "    {'type': 'invoice', 'number': '11-2', 'name': 'Геннадий Покемонов'},\n",
    "    {'type': 'insurance', 'number': '10006', 'name': 'Аристарх Павлов'}\n",
    "]"
   ]
  },
  {
   "cell_type": "markdown",
   "metadata": {},
   "source": [
    "Перечень полок, на которых находятся документы, хранится в следующем виде:"
   ]
  },
  {
   "cell_type": "code",
   "execution_count": 2,
   "metadata": {},
   "outputs": [],
   "source": [
    "directories = {\n",
    "    '1': ['2207 876234', '11-2'],\n",
    "    '2': ['10006'],\n",
    "    '3': []\n",
    "}"
   ]
  },
  {
   "cell_type": "code",
   "execution_count": 3,
   "metadata": {},
   "outputs": [
    {
     "name": "stdout",
     "output_type": "stream",
     "text": [
      "Введите номер документа: 10006\n",
      "Аристарх Павлов\n"
     ]
    }
   ],
   "source": [
    "# p – people – команда, которая спросит номер документа и выведет имя человека, которому он принадлежит\n",
    "\n",
    "def get_people(doc_list): \n",
    "    i = 0\n",
    "    doc_number = input('Введите номер документа: ')\n",
    "    for doc in doc_list:\n",
    "        if doc_number == doc['number']:\n",
    "            return print(doc['name'])\n",
    "get_people(documents)"
   ]
  },
  {
   "cell_type": "code",
   "execution_count": 4,
   "metadata": {},
   "outputs": [
    {
     "name": "stdout",
     "output_type": "stream",
     "text": [
      "Введите номер документа: 11-2\n",
      "номер полки: 1\n"
     ]
    }
   ],
   "source": [
    "# s – shelf – команда, которая спросит номер документа и выведет номер полки, на которой он находится\n",
    "\n",
    "\n",
    "def get_num_shelf(direct_dict):\n",
    "    doc_number = input('Введите номер документа: ')\n",
    "    for shelf, documents_list in direct_dict.items():\n",
    "        for document in documents_list:\n",
    "            if doc_number in documents_list:\n",
    "                return print('номер полки:', shelf)\n",
    "\n",
    "get_num_shelf(directories)"
   ]
  },
  {
   "cell_type": "code",
   "execution_count": 5,
   "metadata": {},
   "outputs": [
    {
     "name": "stdout",
     "output_type": "stream",
     "text": [
      "passport \"2207 876234\" \"Василий Гупкин\"\n",
      "invoice \"11-2\" \"Геннадий Покемонов\"\n",
      "insurance \"10006\" \"Аристарх Павлов\"\n"
     ]
    }
   ],
   "source": [
    "#l – list – команда, которая выведет список всех документов в формате passport \"2207 876234\" \"Василий Гупкин\"\n",
    "\n",
    "def list_docs(doc_list):\n",
    "    for doc in doc_list:\n",
    "        print(f'{doc[\"type\"]} \\\"{doc[\"number\"]}\\\" \\\"{doc[\"name\"]}\\\"')\n",
    "list_docs(documents)"
   ]
  },
  {
   "cell_type": "code",
   "execution_count": 6,
   "metadata": {},
   "outputs": [
    {
     "name": "stdout",
     "output_type": "stream",
     "text": [
      "Введите номер полки: 4\n",
      "Добавляю новую полку\n",
      "{'1': ['2207 876234', '11-2'], '2': ['10006'], '3': [], '4': []}\n"
     ]
    }
   ],
   "source": [
    "# as – add shelf – команда, которая спросит номер новой полки и добавит ее в перечень\n",
    "\n",
    "def add_shelf(direct_dict):\n",
    "    shelf_num = input('Введите номер полки: ')\n",
    "\n",
    "    if shelf_num in direct_dict:\n",
    "        print('Такая полка уже существует')\n",
    "    else:\n",
    "        print('Добавляю новую полку')\n",
    "        direct_dict[shelf_num] = []\n",
    "\n",
    "    return print(direct_dict)\n",
    "    \n",
    "add_shelf(directories)"
   ]
  },
  {
   "cell_type": "code",
   "execution_count": 7,
   "metadata": {},
   "outputs": [
    {
     "name": "stdout",
     "output_type": "stream",
     "text": [
      "Введите номер документа: 10006\n",
      "{'1': ['2207 876234', '11-2'], '2': [], '3': [], '4': []} [{'type': 'passport', 'number': '2207 876234', 'name': 'Василий Гупкин'}, {'type': 'invoice', 'number': '11-2', 'name': 'Геннадий Покемонов'}]\n"
     ]
    }
   ],
   "source": [
    "# d – delete – команда, которая спросит номер документа и удалит его из каталога и из перечня полок\n",
    "\n",
    "\n",
    "def delete_doc(direct_dict, documents_list):\n",
    "    i = 0\n",
    "    doc_number = input('Введите номер документа: ')\n",
    "    \n",
    "    for doc in direct_dict.items():\n",
    "\n",
    "        for document in doc[1]:\n",
    "\n",
    "            if document == doc_number:\n",
    "                doc[1].remove(document)\n",
    "            else:\n",
    "                i = i + 1\n",
    "\n",
    "  \n",
    "    for doc in documents_list:\n",
    "\n",
    "        for value in doc.values():\n",
    "\n",
    "            if value == doc_number:\n",
    "                documents_list.remove(doc)\n",
    "    if i == len(direct_dict):\n",
    "        print('такого документа нет') \n",
    "         \n",
    "                \n",
    "           \n",
    "    return print(direct_dict, documents_list)             \n",
    "\n",
    "\n",
    "\n",
    "delete_doc(directories, documents)"
   ]
  },
  {
   "cell_type": "code",
   "execution_count": 8,
   "metadata": {},
   "outputs": [
    {
     "name": "stdout",
     "output_type": "stream",
     "text": [
      "Введите номер документа: 10006\n",
      "Введите номер целевой полки: 3\n",
      "{'1': ['2207 876234', '11-2'], '2': [], '3': ['10006']}\n"
     ]
    }
   ],
   "source": [
    "# m – move – команда, которая спросит номер документа и целевую полку и переместит его с текущей полки на целевую\n",
    "\n",
    "directories = {\n",
    "    '1': ['2207 876234', '11-2'],\n",
    "    '2': ['10006'],\n",
    "    '3': []\n",
    "}\n",
    "\n",
    "def move_doc(direct_dict):\n",
    "    i = 0\n",
    "    doc_number = input('Введите номер документа: ')   \n",
    "    shelf_num = input('Введите номер целевой полки: ')\n",
    "    for doc in direct_dict.items():\n",
    "        for document in doc[1]:\n",
    "            if document == doc_number:\n",
    "                doc[1].remove(document)\n",
    "            else:\n",
    "                i = i + 1\n",
    "        if i == len(direct_dict):\n",
    "            print('такого документа нет')\n",
    "            break\n",
    "        if int(shelf_num) > len(direct_dict):\n",
    "            print('нет такой полки')\n",
    "            break\n",
    " \n",
    "        if doc[0] == shelf_num:\n",
    "            doc[1].append(doc_number)\n",
    "            break\n",
    "\n",
    "    return print(direct_dict)\n",
    "        \n",
    "move_doc(directories)"
   ]
  },
  {
   "cell_type": "code",
   "execution_count": 9,
   "metadata": {},
   "outputs": [
    {
     "name": "stdout",
     "output_type": "stream",
     "text": [
      "Введите номер нового документа: 5\n",
      "Введите номер полки: 3\n",
      "Введите тип документа: offer\n",
      "Введите имя владельца: a d\n",
      "[{'type': 'passport', 'number': '2207 876234', 'name': 'Василий Гупкин'}, {'type': 'invoice', 'number': '11-2', 'name': 'Геннадий Покемонов'}, {'type': 'insurance', 'number': '10006', 'name': 'Аристарх Павлов'}, {'type': 'offer', 'number': '5', 'name': 'a d'}] {'1': ['2207 876234', '11-2'], '2': ['10006'], '3': ['5']}\n"
     ]
    }
   ],
   "source": [
    "# a – add – команда, которая добавит новый документ в каталог и в перечень полок, спросив его номер, тип, имя владельца и номер полки, на котором он будет храниться.\n",
    "\n",
    "documents = [\n",
    "    {'type': 'passport', 'number': '2207 876234', 'name': 'Василий Гупкин'},\n",
    "    {'type': 'invoice', 'number': '11-2', 'name': 'Геннадий Покемонов'},\n",
    "    {'type': 'insurance', 'number': '10006', 'name': 'Аристарх Павлов'}\n",
    "]\n",
    "\n",
    "directories = {\n",
    "    '1': ['2207 876234', '11-2'],\n",
    "    '2': ['10006'],\n",
    "    '3': []\n",
    "}\n",
    "def add_doc(direct_dict, document_list):\n",
    "    doc_number = input('Введите номер нового документа: ')   \n",
    "    shelf_num = input('Введите номер полки: ')\n",
    "    doc_type = input('Введите тип документа: ')\n",
    "    doc_name = input('Введите имя владельца: ')\n",
    "\n",
    "    i = 0\n",
    "    for doc in direct_dict.items():\n",
    "        if doc[0] == shelf_num:\n",
    "               doc[1].append(doc_number)\n",
    "        else:\n",
    "            i = i + 1\n",
    "    if i == len(direct_dict):\n",
    "        print('нет такой полки')\n",
    "\n",
    "  \n",
    "    document_list.append({'type': doc_type, 'number': doc_number, 'name': doc_name})\n",
    "\n",
    "    return print(document_list, direct_dict)\n",
    "\n",
    "add_doc(directories, documents)"
   ]
  },
  {
   "cell_type": "code",
   "execution_count": 10,
   "metadata": {},
   "outputs": [
    {
     "name": "stdout",
     "output_type": "stream",
     "text": [
      "Введите команду: l\n",
      "passport \"2207 876234\" \"Василий Гупкин\"\n",
      "invoice \"11-2\" \"Геннадий Покемонов\"\n",
      "insurance \"10006\" \"Аристарх Павлов\"\n",
      "offer \"5\" \"a d\"\n",
      "Введите команду: m\n",
      "Введите номер документа: 5\n",
      "Введите номер целевой полки: 1\n",
      "{'1': ['2207 876234', '11-2', '5'], '2': ['10006'], '3': ['5']}\n",
      "Введите команду: q\n"
     ]
    }
   ],
   "source": [
    "def main():\n",
    "    while True:\n",
    "        user_input = input('Введите команду: ')\n",
    "        if user_input == 'p':\n",
    "            get_people(documents)\n",
    "        elif user_input == 's':\n",
    "            get_num_shelf(directories)\n",
    "        elif user_input == 'l':\n",
    "            list_docs(documents)\n",
    "        elif user_input == 'as':\n",
    "            add_shelf(directories)\n",
    "        elif user_input == 'd':\n",
    "            delete_doc(directories, documents)\n",
    "        elif user_input == 'm':\n",
    "            move_doc(directories)\n",
    "        elif user_input == 'a':\n",
    "            add_doc(directories, documents)\n",
    "        elif user_input == 'q':\n",
    "            break\n",
    "main()"
   ]
  },
  {
   "cell_type": "markdown",
   "metadata": {},
   "source": [
    "Необходимо реализовать пользовательские команды (внимание! это не название функций, которые должны быть выразительными, а команды, которые вводит пользователь, чтобы получить необходимый результат):\n",
    "  \n",
    "- p – people – команда, которая спросит номер документа и выведет имя человека, которому он принадлежит;  \n",
    "- s – shelf – команда, которая спросит номер документа и выведет номер полки, на которой он находится  \n",
    "*Правильно обработайте ситуации, когда пользователь будет вводить несуществующий документ*.\n",
    "- l – list – команда, которая выведет список всех документов в формате   \n",
    "**passport \"2207 876234\" \"Василий Гупкин\"**  \n",
    "- as – add shelf – команда, которая спросит номер новой полки и добавит ее в перечень. *Предусмотрите случай, когда пользователь добавляет полку, которая уже существует*.\n",
    "- d – delete – команда, которая спросит номер документа и удалит его из каталога и из перечня полок. *Предусмотрите сценарий, когда пользователь вводит несуществующий документ*;  \n",
    "- m – move – команда, которая спросит номер документа и целевую полку и переместит его с текущей полки на целевую. *Корректно обработайте кейсы, когда пользователь пытается переместить несуществующий документ или переместить документ на несуществующую полку*;  \n",
    "- a – add – команда, которая добавит новый документ в каталог и в перечень полок, спросив его номер, тип, имя владельца и номер полки, на котором он будет храниться. *Корректно обработайте ситуацию, когда пользователь будет пытаться добавить документ на несуществующую полку*."
   ]
  }
 ],
 "metadata": {
  "kernelspec": {
   "display_name": "Python 3",
   "language": "python",
   "name": "python3"
  },
  "language_info": {
   "codemirror_mode": {
    "name": "ipython",
    "version": 3
   },
   "file_extension": ".py",
   "mimetype": "text/x-python",
   "name": "python",
   "nbconvert_exporter": "python",
   "pygments_lexer": "ipython3",
   "version": "3.7.6"
  }
 },
 "nbformat": 4,
 "nbformat_minor": 2
}
