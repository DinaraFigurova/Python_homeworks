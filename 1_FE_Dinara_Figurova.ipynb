{
 "cells": [
  {
   "cell_type": "markdown",
   "metadata": {},
   "source": [
    "**Домашняя работа №1 - Введение в Feature Engineering**"
   ]
  },
  {
   "cell_type": "code",
   "execution_count": 1,
   "metadata": {},
   "outputs": [],
   "source": [
    "import numpy as np\n",
    "import pandas as pd\n",
    "\n",
    "from sklearn.linear_model import LinearRegression"
   ]
  },
  {
   "cell_type": "markdown",
   "metadata": {},
   "source": [
    "Придумаем искусственный датасет про параметры тела человека.\n",
    "Возьмем такие признаки: возраст (age) от 18 лет, вес (weight), рост (height) и будем предсказывать условное количество калорий в день, которые потребляет данный человек (kkal) (для данного датасета рассчитаем исходя из роста и веса)"
   ]
  },
  {
   "cell_type": "code",
   "execution_count": 16,
   "metadata": {},
   "outputs": [
    {
     "data": {
      "text/html": [
       "<div>\n",
       "<style scoped>\n",
       "    .dataframe tbody tr th:only-of-type {\n",
       "        vertical-align: middle;\n",
       "    }\n",
       "\n",
       "    .dataframe tbody tr th {\n",
       "        vertical-align: top;\n",
       "    }\n",
       "\n",
       "    .dataframe thead th {\n",
       "        text-align: right;\n",
       "    }\n",
       "</style>\n",
       "<table border=\"1\" class=\"dataframe\">\n",
       "  <thead>\n",
       "    <tr style=\"text-align: right;\">\n",
       "      <th></th>\n",
       "      <th>age</th>\n",
       "      <th>weight</th>\n",
       "      <th>height</th>\n",
       "      <th>kkal</th>\n",
       "    </tr>\n",
       "  </thead>\n",
       "  <tbody>\n",
       "    <tr>\n",
       "      <th>0</th>\n",
       "      <td>84</td>\n",
       "      <td>204</td>\n",
       "      <td>155</td>\n",
       "      <td>6792.924037</td>\n",
       "    </tr>\n",
       "    <tr>\n",
       "      <th>1</th>\n",
       "      <td>21</td>\n",
       "      <td>61</td>\n",
       "      <td>157</td>\n",
       "      <td>1979.796341</td>\n",
       "    </tr>\n",
       "    <tr>\n",
       "      <th>2</th>\n",
       "      <td>45</td>\n",
       "      <td>122</td>\n",
       "      <td>187</td>\n",
       "      <td>2791.043496</td>\n",
       "    </tr>\n",
       "    <tr>\n",
       "      <th>3</th>\n",
       "      <td>18</td>\n",
       "      <td>137</td>\n",
       "      <td>213</td>\n",
       "      <td>2415.746435</td>\n",
       "    </tr>\n",
       "    <tr>\n",
       "      <th>4</th>\n",
       "      <td>29</td>\n",
       "      <td>109</td>\n",
       "      <td>180</td>\n",
       "      <td>2691.358025</td>\n",
       "    </tr>\n",
       "  </tbody>\n",
       "</table>\n",
       "</div>"
      ],
      "text/plain": [
       "   age  weight  height         kkal\n",
       "0   84     204     155  6792.924037\n",
       "1   21      61     157  1979.796341\n",
       "2   45     122     187  2791.043496\n",
       "3   18     137     213  2415.746435\n",
       "4   29     109     180  2691.358025"
      ]
     },
     "execution_count": 16,
     "metadata": {},
     "output_type": "execute_result"
    }
   ],
   "source": [
    "# Создаём сэмпл\n",
    "n_samples = 600\n",
    "\n",
    "age = np.random.choice(80, n_samples) + 18\n",
    "weight = np.random.choice(200, n_samples) + 50\n",
    "height = np.random.choice(70, n_samples) + 150\n",
    "\n",
    "kkal = 80 * weight / (height / 100) ** 2\n",
    "\n",
    "data = pd.DataFrame({'age': age, 'weight': weight, 'height': height, 'kkal': kkal})\n",
    "data.head(5)"
   ]
  },
  {
   "cell_type": "markdown",
   "metadata": {},
   "source": [
    "Попробуем предсказать \"в лоб\". Возьмем все данные как есть:"
   ]
  },
  {
   "cell_type": "code",
   "execution_count": 17,
   "metadata": {},
   "outputs": [
    {
     "name": "stdout",
     "output_type": "stream",
     "text": [
      "Weights: [  0.8453671   24.64296397 -39.9083044 ]\n",
      "Bias: 7259.403864072254\n",
      "Error: 261.1928698874553\n"
     ]
    }
   ],
   "source": [
    "from sklearn.metrics import mean_absolute_error\n",
    "\n",
    "X = data[['age', 'weight', 'height']]\n",
    "y = data['kkal']\n",
    "reg = LinearRegression().fit(X, y)\n",
    "print('Weights: {}'.format(reg.coef_))\n",
    "print('Bias: {}'.format(reg.intercept_))\n",
    "\n",
    "pred_values = reg.predict(data[['age', 'weight', 'height']])\n",
    "print('Error: {}'.format(mean_absolute_error(pred_values, y)))"
   ]
  },
  {
   "cell_type": "markdown",
   "metadata": {},
   "source": [
    "Ошибка получилась очень большая. Возраст здесь явно лишний - попробуем его убрать (хотя в жизни количество потребляемой еды нередко зависит от возраста, но мы этим пренебрежем, у нас ведь учебный датасет:))"
   ]
  },
  {
   "cell_type": "code",
   "execution_count": 18,
   "metadata": {},
   "outputs": [
    {
     "name": "stdout",
     "output_type": "stream",
     "text": [
      "Weights: [ 24.6580411  -39.94476941]\n",
      "Bias: 7312.99190021363\n",
      "Error: 261.0513891047995\n"
     ]
    }
   ],
   "source": [
    "X = data[['weight', 'height']]\n",
    "y = data['kkal']\n",
    "reg = LinearRegression().fit(X, y)\n",
    "print('Weights: {}'.format(reg.coef_))\n",
    "print('Bias: {}'.format(reg.intercept_))\n",
    "\n",
    "pred_values = reg.predict(data[['weight', 'height']])\n",
    "print('Error: {}'.format(mean_absolute_error(pred_values, y)))"
   ]
  },
  {
   "cell_type": "markdown",
   "metadata": {},
   "source": [
    "Ошибка изменилась совсем немного.\n",
    "Попробуем ввести параметр индекс массы тела ( вес / квадрат роста в метрах) - index_m"
   ]
  },
  {
   "cell_type": "code",
   "execution_count": 19,
   "metadata": {},
   "outputs": [
    {
     "data": {
      "text/html": [
       "<div>\n",
       "<style scoped>\n",
       "    .dataframe tbody tr th:only-of-type {\n",
       "        vertical-align: middle;\n",
       "    }\n",
       "\n",
       "    .dataframe tbody tr th {\n",
       "        vertical-align: top;\n",
       "    }\n",
       "\n",
       "    .dataframe thead th {\n",
       "        text-align: right;\n",
       "    }\n",
       "</style>\n",
       "<table border=\"1\" class=\"dataframe\">\n",
       "  <thead>\n",
       "    <tr style=\"text-align: right;\">\n",
       "      <th></th>\n",
       "      <th>age</th>\n",
       "      <th>weight</th>\n",
       "      <th>height</th>\n",
       "      <th>kkal</th>\n",
       "      <th>index_m</th>\n",
       "    </tr>\n",
       "  </thead>\n",
       "  <tbody>\n",
       "    <tr>\n",
       "      <th>0</th>\n",
       "      <td>84</td>\n",
       "      <td>204</td>\n",
       "      <td>155</td>\n",
       "      <td>6792.924037</td>\n",
       "      <td>84.911550</td>\n",
       "    </tr>\n",
       "    <tr>\n",
       "      <th>1</th>\n",
       "      <td>21</td>\n",
       "      <td>61</td>\n",
       "      <td>157</td>\n",
       "      <td>1979.796341</td>\n",
       "      <td>24.747454</td>\n",
       "    </tr>\n",
       "    <tr>\n",
       "      <th>2</th>\n",
       "      <td>45</td>\n",
       "      <td>122</td>\n",
       "      <td>187</td>\n",
       "      <td>2791.043496</td>\n",
       "      <td>34.888044</td>\n",
       "    </tr>\n",
       "    <tr>\n",
       "      <th>3</th>\n",
       "      <td>18</td>\n",
       "      <td>137</td>\n",
       "      <td>213</td>\n",
       "      <td>2415.746435</td>\n",
       "      <td>30.196830</td>\n",
       "    </tr>\n",
       "    <tr>\n",
       "      <th>4</th>\n",
       "      <td>29</td>\n",
       "      <td>109</td>\n",
       "      <td>180</td>\n",
       "      <td>2691.358025</td>\n",
       "      <td>33.641975</td>\n",
       "    </tr>\n",
       "  </tbody>\n",
       "</table>\n",
       "</div>"
      ],
      "text/plain": [
       "   age  weight  height         kkal    index_m\n",
       "0   84     204     155  6792.924037  84.911550\n",
       "1   21      61     157  1979.796341  24.747454\n",
       "2   45     122     187  2791.043496  34.888044\n",
       "3   18     137     213  2415.746435  30.196830\n",
       "4   29     109     180  2691.358025  33.641975"
      ]
     },
     "execution_count": 19,
     "metadata": {},
     "output_type": "execute_result"
    }
   ],
   "source": [
    "# Создаем новый признак\n",
    "data['index_m'] = data['weight'] / (data['height'] / 100) ** 2\n",
    "data.head(5)"
   ]
  },
  {
   "cell_type": "markdown",
   "metadata": {},
   "source": [
    "Снова рассчитаем нашу модель, теперь уже используя только новый признак:"
   ]
  },
  {
   "cell_type": "code",
   "execution_count": 20,
   "metadata": {},
   "outputs": [
    {
     "name": "stdout",
     "output_type": "stream",
     "text": [
      "Weights: [80.]\n",
      "Bias: -4.547473508864641e-13\n",
      "Error: 4.964325247177233e-13\n"
     ]
    }
   ],
   "source": [
    "X = data[['index_m']]\n",
    "y = data['kkal']\n",
    "reg = LinearRegression().fit(X, y)\n",
    "print('Weights: {}'.format(reg.coef_))\n",
    "print('Bias: {}'.format(reg.intercept_))\n",
    "\n",
    "pred_values = reg.predict(data[['index_m']])\n",
    "print('Error: {}'.format(mean_absolute_error(pred_values, y)))"
   ]
  },
  {
   "cell_type": "markdown",
   "metadata": {},
   "source": [
    "Итак, ошибка значительно сократилась. Теперь мы убедились в том, что в некоторых случаях если использовать признак, созданный из перемножения других признаков, то качество предсказания линейной модели значительно повышается."
   ]
  }
 ],
 "metadata": {
  "kernelspec": {
   "display_name": "Python 3",
   "language": "python",
   "name": "python3"
  },
  "language_info": {
   "codemirror_mode": {
    "name": "ipython",
    "version": 3
   },
   "file_extension": ".py",
   "mimetype": "text/x-python",
   "name": "python",
   "nbconvert_exporter": "python",
   "pygments_lexer": "ipython3",
   "version": "3.7.6"
  }
 },
 "nbformat": 4,
 "nbformat_minor": 4
}
