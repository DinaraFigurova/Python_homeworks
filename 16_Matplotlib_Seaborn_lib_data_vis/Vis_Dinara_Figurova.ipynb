{
 "cells": [
  {
   "cell_type": "code",
   "execution_count": 162,
   "metadata": {},
   "outputs": [],
   "source": [
    "#увеличим дефолтный размер графиков\n",
    "from pylab import rcParams\n",
    "rcParams['figure.figsize'] = 12,2\n",
    "\n",
    "# импортируем нужные библиотеки\n",
    "import pandas as pd\n",
    "import matplotlib.pyplot as plt"
   ]
  },
  {
   "cell_type": "code",
   "execution_count": 163,
   "metadata": {},
   "outputs": [
    {
     "data": {
      "text/html": [
       "<div>\n",
       "<style scoped>\n",
       "    .dataframe tbody tr th:only-of-type {\n",
       "        vertical-align: middle;\n",
       "    }\n",
       "\n",
       "    .dataframe tbody tr th {\n",
       "        vertical-align: top;\n",
       "    }\n",
       "\n",
       "    .dataframe thead th {\n",
       "        text-align: right;\n",
       "    }\n",
       "</style>\n",
       "<table border=\"1\" class=\"dataframe\">\n",
       "  <thead>\n",
       "    <tr style=\"text-align: right;\">\n",
       "      <th></th>\n",
       "      <th>Region</th>\n",
       "      <th>Country</th>\n",
       "      <th>State</th>\n",
       "      <th>City</th>\n",
       "      <th>Month</th>\n",
       "      <th>Day</th>\n",
       "      <th>Year</th>\n",
       "      <th>AvgTemperature</th>\n",
       "    </tr>\n",
       "  </thead>\n",
       "  <tbody>\n",
       "    <tr>\n",
       "      <th>0</th>\n",
       "      <td>Africa</td>\n",
       "      <td>Algeria</td>\n",
       "      <td>NaN</td>\n",
       "      <td>Algiers</td>\n",
       "      <td>1</td>\n",
       "      <td>1</td>\n",
       "      <td>1995</td>\n",
       "      <td>64.2</td>\n",
       "    </tr>\n",
       "    <tr>\n",
       "      <th>1</th>\n",
       "      <td>Africa</td>\n",
       "      <td>Algeria</td>\n",
       "      <td>NaN</td>\n",
       "      <td>Algiers</td>\n",
       "      <td>1</td>\n",
       "      <td>2</td>\n",
       "      <td>1995</td>\n",
       "      <td>49.4</td>\n",
       "    </tr>\n",
       "    <tr>\n",
       "      <th>2</th>\n",
       "      <td>Africa</td>\n",
       "      <td>Algeria</td>\n",
       "      <td>NaN</td>\n",
       "      <td>Algiers</td>\n",
       "      <td>1</td>\n",
       "      <td>3</td>\n",
       "      <td>1995</td>\n",
       "      <td>48.8</td>\n",
       "    </tr>\n",
       "    <tr>\n",
       "      <th>3</th>\n",
       "      <td>Africa</td>\n",
       "      <td>Algeria</td>\n",
       "      <td>NaN</td>\n",
       "      <td>Algiers</td>\n",
       "      <td>1</td>\n",
       "      <td>4</td>\n",
       "      <td>1995</td>\n",
       "      <td>46.4</td>\n",
       "    </tr>\n",
       "    <tr>\n",
       "      <th>4</th>\n",
       "      <td>Africa</td>\n",
       "      <td>Algeria</td>\n",
       "      <td>NaN</td>\n",
       "      <td>Algiers</td>\n",
       "      <td>1</td>\n",
       "      <td>5</td>\n",
       "      <td>1995</td>\n",
       "      <td>47.9</td>\n",
       "    </tr>\n",
       "  </tbody>\n",
       "</table>\n",
       "</div>"
      ],
      "text/plain": [
       "   Region  Country State     City  Month  Day  Year  AvgTemperature\n",
       "0  Africa  Algeria   NaN  Algiers      1    1  1995            64.2\n",
       "1  Africa  Algeria   NaN  Algiers      1    2  1995            49.4\n",
       "2  Africa  Algeria   NaN  Algiers      1    3  1995            48.8\n",
       "3  Africa  Algeria   NaN  Algiers      1    4  1995            46.4\n",
       "4  Africa  Algeria   NaN  Algiers      1    5  1995            47.9"
      ]
     },
     "execution_count": 163,
     "metadata": {},
     "output_type": "execute_result"
    }
   ],
   "source": [
    "city_temperature = pd.read_csv('city_temperature.csv', low_memory=False)\n",
    "city_temperature.head()"
   ]
  },
  {
   "cell_type": "code",
   "execution_count": 164,
   "metadata": {},
   "outputs": [
    {
     "data": {
      "text/html": [
       "<div>\n",
       "<style scoped>\n",
       "    .dataframe tbody tr th:only-of-type {\n",
       "        vertical-align: middle;\n",
       "    }\n",
       "\n",
       "    .dataframe tbody tr th {\n",
       "        vertical-align: top;\n",
       "    }\n",
       "\n",
       "    .dataframe thead th {\n",
       "        text-align: right;\n",
       "    }\n",
       "</style>\n",
       "<table border=\"1\" class=\"dataframe\">\n",
       "  <thead>\n",
       "    <tr style=\"text-align: right;\">\n",
       "      <th></th>\n",
       "      <th>Region</th>\n",
       "      <th>Country</th>\n",
       "      <th>State</th>\n",
       "      <th>City</th>\n",
       "      <th>Month</th>\n",
       "      <th>Day</th>\n",
       "      <th>Year</th>\n",
       "      <th>AvgTemperature</th>\n",
       "      <th>AvgTemperatureC</th>\n",
       "    </tr>\n",
       "  </thead>\n",
       "  <tbody>\n",
       "    <tr>\n",
       "      <th>0</th>\n",
       "      <td>Africa</td>\n",
       "      <td>Algeria</td>\n",
       "      <td>NaN</td>\n",
       "      <td>Algiers</td>\n",
       "      <td>1</td>\n",
       "      <td>1</td>\n",
       "      <td>1995</td>\n",
       "      <td>64.2</td>\n",
       "      <td>17.89</td>\n",
       "    </tr>\n",
       "    <tr>\n",
       "      <th>1</th>\n",
       "      <td>Africa</td>\n",
       "      <td>Algeria</td>\n",
       "      <td>NaN</td>\n",
       "      <td>Algiers</td>\n",
       "      <td>1</td>\n",
       "      <td>2</td>\n",
       "      <td>1995</td>\n",
       "      <td>49.4</td>\n",
       "      <td>9.67</td>\n",
       "    </tr>\n",
       "    <tr>\n",
       "      <th>2</th>\n",
       "      <td>Africa</td>\n",
       "      <td>Algeria</td>\n",
       "      <td>NaN</td>\n",
       "      <td>Algiers</td>\n",
       "      <td>1</td>\n",
       "      <td>3</td>\n",
       "      <td>1995</td>\n",
       "      <td>48.8</td>\n",
       "      <td>9.33</td>\n",
       "    </tr>\n",
       "    <tr>\n",
       "      <th>3</th>\n",
       "      <td>Africa</td>\n",
       "      <td>Algeria</td>\n",
       "      <td>NaN</td>\n",
       "      <td>Algiers</td>\n",
       "      <td>1</td>\n",
       "      <td>4</td>\n",
       "      <td>1995</td>\n",
       "      <td>46.4</td>\n",
       "      <td>8.00</td>\n",
       "    </tr>\n",
       "    <tr>\n",
       "      <th>4</th>\n",
       "      <td>Africa</td>\n",
       "      <td>Algeria</td>\n",
       "      <td>NaN</td>\n",
       "      <td>Algiers</td>\n",
       "      <td>1</td>\n",
       "      <td>5</td>\n",
       "      <td>1995</td>\n",
       "      <td>47.9</td>\n",
       "      <td>8.83</td>\n",
       "    </tr>\n",
       "  </tbody>\n",
       "</table>\n",
       "</div>"
      ],
      "text/plain": [
       "   Region  Country State     City  Month  Day  Year  AvgTemperature  \\\n",
       "0  Africa  Algeria   NaN  Algiers      1    1  1995            64.2   \n",
       "1  Africa  Algeria   NaN  Algiers      1    2  1995            49.4   \n",
       "2  Africa  Algeria   NaN  Algiers      1    3  1995            48.8   \n",
       "3  Africa  Algeria   NaN  Algiers      1    4  1995            46.4   \n",
       "4  Africa  Algeria   NaN  Algiers      1    5  1995            47.9   \n",
       "\n",
       "   AvgTemperatureC  \n",
       "0            17.89  \n",
       "1             9.67  \n",
       "2             9.33  \n",
       "3             8.00  \n",
       "4             8.83  "
      ]
     },
     "execution_count": 164,
     "metadata": {},
     "output_type": "execute_result"
    }
   ],
   "source": [
    "# Выведем температуру в градусах Цельсия для удобства анализа\n",
    "city_temperature['AvgTemperatureC'] = round((city_temperature['AvgTemperature'] - 32)*5/9, 2)\n",
    "city_temperature.head()"
   ]
  },
  {
   "cell_type": "markdown",
   "metadata": {},
   "source": [
    "Узнаем, где жарче всего. В этом нам поможет **столбчатая диаграмма**."
   ]
  },
  {
   "cell_type": "code",
   "execution_count": 165,
   "metadata": {},
   "outputs": [
    {
     "data": {
      "text/html": [
       "<div>\n",
       "<style scoped>\n",
       "    .dataframe tbody tr th:only-of-type {\n",
       "        vertical-align: middle;\n",
       "    }\n",
       "\n",
       "    .dataframe tbody tr th {\n",
       "        vertical-align: top;\n",
       "    }\n",
       "\n",
       "    .dataframe thead th {\n",
       "        text-align: right;\n",
       "    }\n",
       "</style>\n",
       "<table border=\"1\" class=\"dataframe\">\n",
       "  <thead>\n",
       "    <tr style=\"text-align: right;\">\n",
       "      <th></th>\n",
       "      <th>Region</th>\n",
       "      <th>AvgTemperatureC</th>\n",
       "    </tr>\n",
       "  </thead>\n",
       "  <tbody>\n",
       "    <tr>\n",
       "      <th>0</th>\n",
       "      <td>Middle East</td>\n",
       "      <td>20.213581</td>\n",
       "    </tr>\n",
       "    <tr>\n",
       "      <th>1</th>\n",
       "      <td>Asia</td>\n",
       "      <td>16.982514</td>\n",
       "    </tr>\n",
       "    <tr>\n",
       "      <th>2</th>\n",
       "      <td>South/Central America &amp; Carribean</td>\n",
       "      <td>16.771788</td>\n",
       "    </tr>\n",
       "    <tr>\n",
       "      <th>3</th>\n",
       "      <td>Australia/South Pacific</td>\n",
       "      <td>16.211585</td>\n",
       "    </tr>\n",
       "    <tr>\n",
       "      <th>4</th>\n",
       "      <td>North America</td>\n",
       "      <td>12.944948</td>\n",
       "    </tr>\n",
       "    <tr>\n",
       "      <th>5</th>\n",
       "      <td>Africa</td>\n",
       "      <td>11.971690</td>\n",
       "    </tr>\n",
       "    <tr>\n",
       "      <th>6</th>\n",
       "      <td>Europe</td>\n",
       "      <td>8.164529</td>\n",
       "    </tr>\n",
       "  </tbody>\n",
       "</table>\n",
       "</div>"
      ],
      "text/plain": [
       "                              Region  AvgTemperatureC\n",
       "0                        Middle East        20.213581\n",
       "1                               Asia        16.982514\n",
       "2  South/Central America & Carribean        16.771788\n",
       "3            Australia/South Pacific        16.211585\n",
       "4                      North America        12.944948\n",
       "5                             Africa        11.971690\n",
       "6                             Europe         8.164529"
      ]
     },
     "execution_count": 165,
     "metadata": {},
     "output_type": "execute_result"
    }
   ],
   "source": [
    "city_temperature_meant = city_temperature.groupby('Region')[['AvgTemperatureC']].mean()\\\n",
    "    .sort_values('AvgTemperatureC', ascending=False).reset_index()\n",
    "\n",
    "city_temperature_meant"
   ]
  },
  {
   "cell_type": "code",
   "execution_count": 166,
   "metadata": {},
   "outputs": [
    {
     "data": {
      "text/plain": [
       "<BarContainer object of 7 artists>"
      ]
     },
     "execution_count": 166,
     "metadata": {},
     "output_type": "execute_result"
    },
    {
     "data": {
      "image/png": "[encoded data removed]",
      "text/plain": [
       "<Figure size 864x144 with 1 Axes>"
      ]
     },
     "metadata": {
      "needs_background": "light"
     },
     "output_type": "display_data"
    }
   ],
   "source": [
    "plt.barh(city_temperature_meant['Region'], city_temperature_meant['AvgTemperatureC'])"
   ]
  },
  {
   "cell_type": "markdown",
   "metadata": {},
   "source": [
    "Оказывается, на Среднем Востоке в среднем почти вдвое жарче, чем в Африке!!!"
   ]
  },
  {
   "cell_type": "markdown",
   "metadata": {},
   "source": [
    "Посмотрим, как изменялась средняя температура в этих регионах по годам"
   ]
  },
  {
   "cell_type": "code",
   "execution_count": 167,
   "metadata": {},
   "outputs": [
    {
     "data": {
      "text/plain": [
       "array(['Africa', 'Asia', 'Australia/South Pacific', 'Europe',\n",
       "       'Middle East', 'North America',\n",
       "       'South/Central America & Carribean'], dtype=object)"
      ]
     },
     "execution_count": 167,
     "metadata": {},
     "output_type": "execute_result"
    }
   ],
   "source": [
    "city_temperature.Region.unique()"
   ]
  },
  {
   "cell_type": "code",
   "execution_count": 168,
   "metadata": {},
   "outputs": [],
   "source": [
    "city_temperature = city_temperature[city_temperature['Year'] != 200]\n",
    "city_temperature = city_temperature[city_temperature['Year'] != 201]\n"
   ]
  },
  {
   "cell_type": "code",
   "execution_count": 169,
   "metadata": {},
   "outputs": [
    {
     "data": {
      "text/html": [
       "<div>\n",
       "<style scoped>\n",
       "    .dataframe tbody tr th:only-of-type {\n",
       "        vertical-align: middle;\n",
       "    }\n",
       "\n",
       "    .dataframe tbody tr th {\n",
       "        vertical-align: top;\n",
       "    }\n",
       "\n",
       "    .dataframe thead th {\n",
       "        text-align: right;\n",
       "    }\n",
       "</style>\n",
       "<table border=\"1\" class=\"dataframe\">\n",
       "  <thead>\n",
       "    <tr style=\"text-align: right;\">\n",
       "      <th>Region</th>\n",
       "      <th>Africa</th>\n",
       "      <th>Asia</th>\n",
       "      <th>Australia/South Pacific</th>\n",
       "      <th>Europe</th>\n",
       "      <th>Middle East</th>\n",
       "      <th>North America</th>\n",
       "      <th>South/Central America &amp; Carribean</th>\n",
       "    </tr>\n",
       "    <tr>\n",
       "      <th>Year</th>\n",
       "      <th></th>\n",
       "      <th></th>\n",
       "      <th></th>\n",
       "      <th></th>\n",
       "      <th></th>\n",
       "      <th></th>\n",
       "      <th></th>\n",
       "    </tr>\n",
       "  </thead>\n",
       "  <tbody>\n",
       "    <tr>\n",
       "      <th>1995</th>\n",
       "      <td>11.653472</td>\n",
       "      <td>10.657956</td>\n",
       "      <td>16.181342</td>\n",
       "      <td>3.685624</td>\n",
       "      <td>13.008888</td>\n",
       "      <td>12.713475</td>\n",
       "      <td>2.362307</td>\n",
       "    </tr>\n",
       "    <tr>\n",
       "      <th>1996</th>\n",
       "      <td>9.082088</td>\n",
       "      <td>15.718321</td>\n",
       "      <td>16.006362</td>\n",
       "      <td>2.520702</td>\n",
       "      <td>14.019539</td>\n",
       "      <td>10.595011</td>\n",
       "      <td>12.036088</td>\n",
       "    </tr>\n",
       "    <tr>\n",
       "      <th>1997</th>\n",
       "      <td>2.934279</td>\n",
       "      <td>14.424274</td>\n",
       "      <td>16.431717</td>\n",
       "      <td>5.161948</td>\n",
       "      <td>14.777552</td>\n",
       "      <td>12.108807</td>\n",
       "      <td>12.843024</td>\n",
       "    </tr>\n",
       "    <tr>\n",
       "      <th>1998</th>\n",
       "      <td>-0.929962</td>\n",
       "      <td>12.075735</td>\n",
       "      <td>9.575977</td>\n",
       "      <td>4.964489</td>\n",
       "      <td>14.720628</td>\n",
       "      <td>12.509847</td>\n",
       "      <td>9.736766</td>\n",
       "    </tr>\n",
       "    <tr>\n",
       "      <th>1999</th>\n",
       "      <td>1.196068</td>\n",
       "      <td>13.108270</td>\n",
       "      <td>16.474288</td>\n",
       "      <td>5.694540</td>\n",
       "      <td>15.378450</td>\n",
       "      <td>13.136399</td>\n",
       "      <td>14.680455</td>\n",
       "    </tr>\n",
       "    <tr>\n",
       "      <th>2000</th>\n",
       "      <td>-0.969161</td>\n",
       "      <td>12.287807</td>\n",
       "      <td>16.547158</td>\n",
       "      <td>8.011956</td>\n",
       "      <td>15.672865</td>\n",
       "      <td>12.824890</td>\n",
       "      <td>16.160543</td>\n",
       "    </tr>\n",
       "    <tr>\n",
       "      <th>2001</th>\n",
       "      <td>3.969642</td>\n",
       "      <td>15.873163</td>\n",
       "      <td>16.283032</td>\n",
       "      <td>7.178908</td>\n",
       "      <td>22.610284</td>\n",
       "      <td>13.286570</td>\n",
       "      <td>18.017086</td>\n",
       "    </tr>\n",
       "    <tr>\n",
       "      <th>2002</th>\n",
       "      <td>1.128458</td>\n",
       "      <td>15.325105</td>\n",
       "      <td>15.167749</td>\n",
       "      <td>6.572910</td>\n",
       "      <td>21.667049</td>\n",
       "      <td>11.870668</td>\n",
       "      <td>17.168785</td>\n",
       "    </tr>\n",
       "    <tr>\n",
       "      <th>2003</th>\n",
       "      <td>1.266464</td>\n",
       "      <td>17.367112</td>\n",
       "      <td>15.781059</td>\n",
       "      <td>6.391123</td>\n",
       "      <td>22.908272</td>\n",
       "      <td>12.513358</td>\n",
       "      <td>15.724867</td>\n",
       "    </tr>\n",
       "    <tr>\n",
       "      <th>2004</th>\n",
       "      <td>5.029257</td>\n",
       "      <td>16.880297</td>\n",
       "      <td>16.586990</td>\n",
       "      <td>8.678030</td>\n",
       "      <td>22.253507</td>\n",
       "      <td>12.841491</td>\n",
       "      <td>13.896858</td>\n",
       "    </tr>\n",
       "    <tr>\n",
       "      <th>2005</th>\n",
       "      <td>8.764879</td>\n",
       "      <td>16.230438</td>\n",
       "      <td>16.857132</td>\n",
       "      <td>9.366286</td>\n",
       "      <td>22.053550</td>\n",
       "      <td>12.992746</td>\n",
       "      <td>20.023158</td>\n",
       "    </tr>\n",
       "    <tr>\n",
       "      <th>2006</th>\n",
       "      <td>8.888739</td>\n",
       "      <td>17.199431</td>\n",
       "      <td>16.703749</td>\n",
       "      <td>8.939393</td>\n",
       "      <td>21.635953</td>\n",
       "      <td>13.395946</td>\n",
       "      <td>16.864331</td>\n",
       "    </tr>\n",
       "    <tr>\n",
       "      <th>2007</th>\n",
       "      <td>18.112059</td>\n",
       "      <td>16.979940</td>\n",
       "      <td>16.795813</td>\n",
       "      <td>10.437299</td>\n",
       "      <td>20.684124</td>\n",
       "      <td>12.929927</td>\n",
       "      <td>17.406771</td>\n",
       "    </tr>\n",
       "    <tr>\n",
       "      <th>2008</th>\n",
       "      <td>16.491246</td>\n",
       "      <td>17.911963</td>\n",
       "      <td>15.923711</td>\n",
       "      <td>10.589368</td>\n",
       "      <td>22.674565</td>\n",
       "      <td>12.240241</td>\n",
       "      <td>16.287258</td>\n",
       "    </tr>\n",
       "    <tr>\n",
       "      <th>2009</th>\n",
       "      <td>20.229516</td>\n",
       "      <td>19.201097</td>\n",
       "      <td>16.779904</td>\n",
       "      <td>9.956116</td>\n",
       "      <td>22.768244</td>\n",
       "      <td>12.582060</td>\n",
       "      <td>19.482934</td>\n",
       "    </tr>\n",
       "    <tr>\n",
       "      <th>2010</th>\n",
       "      <td>15.507196</td>\n",
       "      <td>19.791964</td>\n",
       "      <td>16.794799</td>\n",
       "      <td>8.388074</td>\n",
       "      <td>23.800611</td>\n",
       "      <td>13.147888</td>\n",
       "      <td>18.333586</td>\n",
       "    </tr>\n",
       "    <tr>\n",
       "      <th>2011</th>\n",
       "      <td>16.276126</td>\n",
       "      <td>19.693560</td>\n",
       "      <td>16.741046</td>\n",
       "      <td>9.980643</td>\n",
       "      <td>21.949359</td>\n",
       "      <td>13.552331</td>\n",
       "      <td>20.200502</td>\n",
       "    </tr>\n",
       "    <tr>\n",
       "      <th>2012</th>\n",
       "      <td>20.644873</td>\n",
       "      <td>19.485238</td>\n",
       "      <td>16.277650</td>\n",
       "      <td>9.508672</td>\n",
       "      <td>19.656356</td>\n",
       "      <td>14.402451</td>\n",
       "      <td>21.366066</td>\n",
       "    </tr>\n",
       "    <tr>\n",
       "      <th>2013</th>\n",
       "      <td>20.767404</td>\n",
       "      <td>19.710346</td>\n",
       "      <td>17.038854</td>\n",
       "      <td>10.650090</td>\n",
       "      <td>23.386896</td>\n",
       "      <td>12.938265</td>\n",
       "      <td>17.718872</td>\n",
       "    </tr>\n",
       "    <tr>\n",
       "      <th>2014</th>\n",
       "      <td>20.746501</td>\n",
       "      <td>19.592320</td>\n",
       "      <td>16.891918</td>\n",
       "      <td>11.298926</td>\n",
       "      <td>22.067827</td>\n",
       "      <td>12.800443</td>\n",
       "      <td>15.378447</td>\n",
       "    </tr>\n",
       "    <tr>\n",
       "      <th>2015</th>\n",
       "      <td>21.176803</td>\n",
       "      <td>19.830778</td>\n",
       "      <td>16.461239</td>\n",
       "      <td>10.986550</td>\n",
       "      <td>22.314407</td>\n",
       "      <td>13.983776</td>\n",
       "      <td>22.254826</td>\n",
       "    </tr>\n",
       "    <tr>\n",
       "      <th>2016</th>\n",
       "      <td>22.035467</td>\n",
       "      <td>19.486586</td>\n",
       "      <td>16.313802</td>\n",
       "      <td>10.217995</td>\n",
       "      <td>21.839561</td>\n",
       "      <td>14.476141</td>\n",
       "      <td>21.137681</td>\n",
       "    </tr>\n",
       "    <tr>\n",
       "      <th>2017</th>\n",
       "      <td>22.089900</td>\n",
       "      <td>20.223382</td>\n",
       "      <td>17.162434</td>\n",
       "      <td>10.934699</td>\n",
       "      <td>21.211604</td>\n",
       "      <td>14.348184</td>\n",
       "      <td>21.084905</td>\n",
       "    </tr>\n",
       "    <tr>\n",
       "      <th>2018</th>\n",
       "      <td>20.760567</td>\n",
       "      <td>19.117520</td>\n",
       "      <td>16.135210</td>\n",
       "      <td>10.115166</td>\n",
       "      <td>23.033964</td>\n",
       "      <td>13.811403</td>\n",
       "      <td>20.803633</td>\n",
       "    </tr>\n",
       "    <tr>\n",
       "      <th>2019</th>\n",
       "      <td>21.268708</td>\n",
       "      <td>17.455127</td>\n",
       "      <td>15.960758</td>\n",
       "      <td>9.780696</td>\n",
       "      <td>21.931259</td>\n",
       "      <td>13.675179</td>\n",
       "      <td>20.908710</td>\n",
       "    </tr>\n",
       "    <tr>\n",
       "      <th>2020</th>\n",
       "      <td>23.815512</td>\n",
       "      <td>16.492082</td>\n",
       "      <td>20.063644</td>\n",
       "      <td>7.111245</td>\n",
       "      <td>17.428060</td>\n",
       "      <td>8.559323</td>\n",
       "      <td>22.508638</td>\n",
       "    </tr>\n",
       "  </tbody>\n",
       "</table>\n",
       "</div>"
      ],
      "text/plain": [
       "Region     Africa       Asia  Australia/South Pacific     Europe  Middle East  \\\n",
       "Year                                                                            \n",
       "1995    11.653472  10.657956                16.181342   3.685624    13.008888   \n",
       "1996     9.082088  15.718321                16.006362   2.520702    14.019539   \n",
       "1997     2.934279  14.424274                16.431717   5.161948    14.777552   \n",
       "1998    -0.929962  12.075735                 9.575977   4.964489    14.720628   \n",
       "1999     1.196068  13.108270                16.474288   5.694540    15.378450   \n",
       "2000    -0.969161  12.287807                16.547158   8.011956    15.672865   \n",
       "2001     3.969642  15.873163                16.283032   7.178908    22.610284   \n",
       "2002     1.128458  15.325105                15.167749   6.572910    21.667049   \n",
       "2003     1.266464  17.367112                15.781059   6.391123    22.908272   \n",
       "2004     5.029257  16.880297                16.586990   8.678030    22.253507   \n",
       "2005     8.764879  16.230438                16.857132   9.366286    22.053550   \n",
       "2006     8.888739  17.199431                16.703749   8.939393    21.635953   \n",
       "2007    18.112059  16.979940                16.795813  10.437299    20.684124   \n",
       "2008    16.491246  17.911963                15.923711  10.589368    22.674565   \n",
       "2009    20.229516  19.201097                16.779904   9.956116    22.768244   \n",
       "2010    15.507196  19.791964                16.794799   8.388074    23.800611   \n",
       "2011    16.276126  19.693560                16.741046   9.980643    21.949359   \n",
       "2012    20.644873  19.485238                16.277650   9.508672    19.656356   \n",
       "2013    20.767404  19.710346                17.038854  10.650090    23.386896   \n",
       "2014    20.746501  19.592320                16.891918  11.298926    22.067827   \n",
       "2015    21.176803  19.830778                16.461239  10.986550    22.314407   \n",
       "2016    22.035467  19.486586                16.313802  10.217995    21.839561   \n",
       "2017    22.089900  20.223382                17.162434  10.934699    21.211604   \n",
       "2018    20.760567  19.117520                16.135210  10.115166    23.033964   \n",
       "2019    21.268708  17.455127                15.960758   9.780696    21.931259   \n",
       "2020    23.815512  16.492082                20.063644   7.111245    17.428060   \n",
       "\n",
       "Region  North America  South/Central America & Carribean  \n",
       "Year                                                      \n",
       "1995        12.713475                           2.362307  \n",
       "1996        10.595011                          12.036088  \n",
       "1997        12.108807                          12.843024  \n",
       "1998        12.509847                           9.736766  \n",
       "1999        13.136399                          14.680455  \n",
       "2000        12.824890                          16.160543  \n",
       "2001        13.286570                          18.017086  \n",
       "2002        11.870668                          17.168785  \n",
       "2003        12.513358                          15.724867  \n",
       "2004        12.841491                          13.896858  \n",
       "2005        12.992746                          20.023158  \n",
       "2006        13.395946                          16.864331  \n",
       "2007        12.929927                          17.406771  \n",
       "2008        12.240241                          16.287258  \n",
       "2009        12.582060                          19.482934  \n",
       "2010        13.147888                          18.333586  \n",
       "2011        13.552331                          20.200502  \n",
       "2012        14.402451                          21.366066  \n",
       "2013        12.938265                          17.718872  \n",
       "2014        12.800443                          15.378447  \n",
       "2015        13.983776                          22.254826  \n",
       "2016        14.476141                          21.137681  \n",
       "2017        14.348184                          21.084905  \n",
       "2018        13.811403                          20.803633  \n",
       "2019        13.675179                          20.908710  \n",
       "2020         8.559323                          22.508638  "
      ]
     },
     "execution_count": 169,
     "metadata": {},
     "output_type": "execute_result"
    }
   ],
   "source": [
    "city_temperature_y = city_temperature.pivot_table(\n",
    "                        index='Year', \n",
    "                        columns='Region', \n",
    "                        values='AvgTemperatureC', \n",
    "                        aggfunc='mean').fillna(0).applymap(float)\n",
    "\n",
    "city_temperature_y"
   ]
  },
  {
   "cell_type": "code",
   "execution_count": 170,
   "metadata": {},
   "outputs": [
    {
     "data": {
      "text/plain": [
       "<matplotlib.axes._subplots.AxesSubplot at 0x21fceff5648>"
      ]
     },
     "execution_count": 170,
     "metadata": {},
     "output_type": "execute_result"
    },
    {
     "data": {
      "image/png": "[encoded data removed]",
      "text/plain": [
       "<Figure size 864x144 with 1 Axes>"
      ]
     },
     "metadata": {
      "needs_background": "light"
     },
     "output_type": "display_data"
    }
   ],
   "source": [
    "# построим график\n",
    "city_temperature_y.plot()"
   ]
  },
  {
   "cell_type": "markdown",
   "metadata": {},
   "source": [
    "**График** отлично визуализирует динамику средних температур по годам в различных регионах. Явно виден \"провал\" температур в Африке в период с 1995 по 2005 годы, а вот на Среднем Востоке в это время наблюдается рост средних показателей. Удивительно, что динамики температур в Азии и Австралии довольно близки друг другу. И в целом по миру видно, что средняя температура по году имеет тенденцию к росту."
   ]
  },
  {
   "cell_type": "markdown",
   "metadata": {},
   "source": [
    "Построим **heat map** по среднемесячным температурам по регионам, чтобы понять, где в каком месяце комфортнее всего находиться))"
   ]
  },
  {
   "cell_type": "code",
   "execution_count": 171,
   "metadata": {},
   "outputs": [
    {
     "data": {
      "text/html": [
       "<div>\n",
       "<style scoped>\n",
       "    .dataframe tbody tr th:only-of-type {\n",
       "        vertical-align: middle;\n",
       "    }\n",
       "\n",
       "    .dataframe tbody tr th {\n",
       "        vertical-align: top;\n",
       "    }\n",
       "\n",
       "    .dataframe thead th {\n",
       "        text-align: right;\n",
       "    }\n",
       "</style>\n",
       "<table border=\"1\" class=\"dataframe\">\n",
       "  <thead>\n",
       "    <tr style=\"text-align: right;\">\n",
       "      <th>Region</th>\n",
       "      <th>Africa</th>\n",
       "      <th>Asia</th>\n",
       "      <th>Australia/South Pacific</th>\n",
       "      <th>Europe</th>\n",
       "      <th>Middle East</th>\n",
       "      <th>North America</th>\n",
       "      <th>South/Central America &amp; Carribean</th>\n",
       "    </tr>\n",
       "    <tr>\n",
       "      <th>Month</th>\n",
       "      <th></th>\n",
       "      <th></th>\n",
       "      <th></th>\n",
       "      <th></th>\n",
       "      <th></th>\n",
       "      <th></th>\n",
       "      <th></th>\n",
       "    </tr>\n",
       "  </thead>\n",
       "  <tbody>\n",
       "    <tr>\n",
       "      <th>1</th>\n",
       "      <td>11.259989</td>\n",
       "      <td>7.851066</td>\n",
       "      <td>21.928435</td>\n",
       "      <td>-0.608548</td>\n",
       "      <td>10.727999</td>\n",
       "      <td>1.545453</td>\n",
       "      <td>17.469248</td>\n",
       "    </tr>\n",
       "    <tr>\n",
       "      <th>2</th>\n",
       "      <td>12.076552</td>\n",
       "      <td>9.832459</td>\n",
       "      <td>21.773460</td>\n",
       "      <td>0.834297</td>\n",
       "      <td>12.190293</td>\n",
       "      <td>3.380250</td>\n",
       "      <td>17.513446</td>\n",
       "    </tr>\n",
       "    <tr>\n",
       "      <th>3</th>\n",
       "      <td>12.757806</td>\n",
       "      <td>13.654196</td>\n",
       "      <td>20.198919</td>\n",
       "      <td>3.708614</td>\n",
       "      <td>15.730373</td>\n",
       "      <td>7.554129</td>\n",
       "      <td>17.349069</td>\n",
       "    </tr>\n",
       "    <tr>\n",
       "      <th>4</th>\n",
       "      <td>12.740909</td>\n",
       "      <td>18.408665</td>\n",
       "      <td>17.085056</td>\n",
       "      <td>7.855329</td>\n",
       "      <td>19.648232</td>\n",
       "      <td>12.336557</td>\n",
       "      <td>17.193310</td>\n",
       "    </tr>\n",
       "    <tr>\n",
       "      <th>5</th>\n",
       "      <td>12.315329</td>\n",
       "      <td>20.896872</td>\n",
       "      <td>13.716387</td>\n",
       "      <td>11.561368</td>\n",
       "      <td>24.245217</td>\n",
       "      <td>17.435690</td>\n",
       "      <td>16.303413</td>\n",
       "    </tr>\n",
       "    <tr>\n",
       "      <th>6</th>\n",
       "      <td>12.471956</td>\n",
       "      <td>22.757795</td>\n",
       "      <td>11.461491</td>\n",
       "      <td>15.207376</td>\n",
       "      <td>26.912755</td>\n",
       "      <td>21.277805</td>\n",
       "      <td>15.755454</td>\n",
       "    </tr>\n",
       "    <tr>\n",
       "      <th>7</th>\n",
       "      <td>12.138357</td>\n",
       "      <td>24.811464</td>\n",
       "      <td>11.080830</td>\n",
       "      <td>17.602867</td>\n",
       "      <td>28.498285</td>\n",
       "      <td>24.234013</td>\n",
       "      <td>16.430120</td>\n",
       "    </tr>\n",
       "    <tr>\n",
       "      <th>8</th>\n",
       "      <td>11.998963</td>\n",
       "      <td>23.888423</td>\n",
       "      <td>11.443191</td>\n",
       "      <td>17.292321</td>\n",
       "      <td>28.503567</td>\n",
       "      <td>23.401064</td>\n",
       "      <td>16.733808</td>\n",
       "    </tr>\n",
       "    <tr>\n",
       "      <th>9</th>\n",
       "      <td>12.295489</td>\n",
       "      <td>21.754538</td>\n",
       "      <td>13.169382</td>\n",
       "      <td>13.220361</td>\n",
       "      <td>25.665814</td>\n",
       "      <td>19.883163</td>\n",
       "      <td>16.583960</td>\n",
       "    </tr>\n",
       "    <tr>\n",
       "      <th>10</th>\n",
       "      <td>12.609080</td>\n",
       "      <td>18.322850</td>\n",
       "      <td>15.758544</td>\n",
       "      <td>8.722382</td>\n",
       "      <td>22.206479</td>\n",
       "      <td>13.997715</td>\n",
       "      <td>16.896152</td>\n",
       "    </tr>\n",
       "    <tr>\n",
       "      <th>11</th>\n",
       "      <td>11.469647</td>\n",
       "      <td>13.052242</td>\n",
       "      <td>17.445467</td>\n",
       "      <td>3.870086</td>\n",
       "      <td>16.527814</td>\n",
       "      <td>7.886013</td>\n",
       "      <td>16.164336</td>\n",
       "    </tr>\n",
       "    <tr>\n",
       "      <th>12</th>\n",
       "      <td>10.003239</td>\n",
       "      <td>8.801890</td>\n",
       "      <td>19.197556</td>\n",
       "      <td>-0.246410</td>\n",
       "      <td>12.012991</td>\n",
       "      <td>2.821264</td>\n",
       "      <td>16.811318</td>\n",
       "    </tr>\n",
       "  </tbody>\n",
       "</table>\n",
       "</div>"
      ],
      "text/plain": [
       "Region     Africa       Asia  Australia/South Pacific     Europe  Middle East  \\\n",
       "Month                                                                           \n",
       "1       11.259989   7.851066                21.928435  -0.608548    10.727999   \n",
       "2       12.076552   9.832459                21.773460   0.834297    12.190293   \n",
       "3       12.757806  13.654196                20.198919   3.708614    15.730373   \n",
       "4       12.740909  18.408665                17.085056   7.855329    19.648232   \n",
       "5       12.315329  20.896872                13.716387  11.561368    24.245217   \n",
       "6       12.471956  22.757795                11.461491  15.207376    26.912755   \n",
       "7       12.138357  24.811464                11.080830  17.602867    28.498285   \n",
       "8       11.998963  23.888423                11.443191  17.292321    28.503567   \n",
       "9       12.295489  21.754538                13.169382  13.220361    25.665814   \n",
       "10      12.609080  18.322850                15.758544   8.722382    22.206479   \n",
       "11      11.469647  13.052242                17.445467   3.870086    16.527814   \n",
       "12      10.003239   8.801890                19.197556  -0.246410    12.012991   \n",
       "\n",
       "Region  North America  South/Central America & Carribean  \n",
       "Month                                                     \n",
       "1            1.545453                          17.469248  \n",
       "2            3.380250                          17.513446  \n",
       "3            7.554129                          17.349069  \n",
       "4           12.336557                          17.193310  \n",
       "5           17.435690                          16.303413  \n",
       "6           21.277805                          15.755454  \n",
       "7           24.234013                          16.430120  \n",
       "8           23.401064                          16.733808  \n",
       "9           19.883163                          16.583960  \n",
       "10          13.997715                          16.896152  \n",
       "11           7.886013                          16.164336  \n",
       "12           2.821264                          16.811318  "
      ]
     },
     "execution_count": 171,
     "metadata": {},
     "output_type": "execute_result"
    }
   ],
   "source": [
    "city_temperature_r_c = city_temperature.pivot_table(\n",
    "                        index='Month', \n",
    "                        columns='Region', \n",
    "                        values='AvgTemperatureC', \n",
    "                        aggfunc='mean').fillna(0).applymap(float)\n",
    "\n",
    "city_temperature_r_c"
   ]
  },
  {
   "cell_type": "code",
   "execution_count": 172,
   "metadata": {},
   "outputs": [
    {
     "data": {
      "image/png": "[encoded data removed]",
      "text/plain": [
       "<Figure size 864x144 with 2 Axes>"
      ]
     },
     "metadata": {
      "needs_background": "light"
     },
     "output_type": "display_data"
    }
   ],
   "source": [
    "import seaborn as sns\n",
    "ax = sns.heatmap(city_temperature_r_c)"
   ]
  },
  {
   "cell_type": "markdown",
   "metadata": {},
   "source": [
    "Самый большой перепад температур в течение года наблюдается в Северной Америке, а на Карибских Островах самый мягкий климат))\n",
    "Ещё сразу видно, что в Австралии \"всё наоборот\" - ведь она расположена в другом полушарии! А Азия - словно её зеркальное отражение (в предыдущем иследовании мы увидели, что в среднем по году в динамике они ближе всего друг другу)"
   ]
  },
  {
   "cell_type": "markdown",
   "metadata": {},
   "source": [
    "Узнаем, какой разброс температур по году во всех регионах. Построим **boxplot**"
   ]
  },
  {
   "cell_type": "code",
   "execution_count": 173,
   "metadata": {},
   "outputs": [
    {
     "data": {
      "image/png": "[encoded data removed]",
      "text/plain": [
       "<Figure size 864x144 with 1 Axes>"
      ]
     },
     "metadata": {
      "needs_background": "light"
     },
     "output_type": "display_data"
    }
   ],
   "source": [
    "city_temperature_top = city_temperature.Region.value_counts().sort_values(ascending = False).index.values\n",
    "city_temperature_top\n",
    "ax = sns.boxplot(x=\"Region\", y=\"AvgTemperatureC\", \n",
    "            data=city_temperature[city_temperature.Region.isin(city_temperature_top)])"
   ]
  },
  {
   "cell_type": "markdown",
   "metadata": {},
   "source": [
    "Видим какие-то странные аномалии в данных. Много точек с температурой ниже -50 градусов, даже в тёплых регионах, которых быть не должно, и которые искажают данные."
   ]
  },
  {
   "cell_type": "markdown",
   "metadata": {},
   "source": [
    "Удалим подобные аномалии."
   ]
  },
  {
   "cell_type": "code",
   "execution_count": 175,
   "metadata": {},
   "outputs": [],
   "source": [
    "city_temperature = city_temperature[city_temperature['AvgTemperatureC'] > -50]"
   ]
  },
  {
   "cell_type": "code",
   "execution_count": 176,
   "metadata": {},
   "outputs": [
    {
     "data": {
      "image/png": "[encoded data removed]",
      "text/plain": [
       "<Figure size 864x144 with 1 Axes>"
      ]
     },
     "metadata": {
      "needs_background": "light"
     },
     "output_type": "display_data"
    }
   ],
   "source": [
    "city_temperature_top = city_temperature.Region.value_counts().sort_values(ascending = False).index.values\n",
    "city_temperature_top\n",
    "ax = sns.boxplot(x=\"Region\", y=\"AvgTemperatureC\", \n",
    "            data=city_temperature[city_temperature.Region.isin(city_temperature_top)])"
   ]
  },
  {
   "cell_type": "markdown",
   "metadata": {},
   "source": [
    "Теперь наши данные выглядят более правдоподобно. В северной америке и в азии большой разброс температур, что вызвано континентальным климатом. Африка, Карибы и Австралия показали наименьший разброс."
   ]
  },
  {
   "cell_type": "code",
   "execution_count": 177,
   "metadata": {},
   "outputs": [
    {
     "data": {
      "text/plain": [
       "<matplotlib.axes._subplots.AxesSubplot at 0x22001695588>"
      ]
     },
     "execution_count": 177,
     "metadata": {},
     "output_type": "execute_result"
    },
    {
     "data": {
      "image/png": "[encoded data removed]",
      "text/plain": [
       "<Figure size 864x144 with 1 Axes>"
      ]
     },
     "metadata": {
      "needs_background": "light"
     },
     "output_type": "display_data"
    }
   ],
   "source": [
    "city_temperature_y = city_temperature.pivot_table(\n",
    "                        index='Year', \n",
    "                        columns='Region', \n",
    "                        values='AvgTemperatureC', \n",
    "                        aggfunc='mean').fillna(0).applymap(float)\n",
    "city_temperature_y.plot()"
   ]
  },
  {
   "cell_type": "markdown",
   "metadata": {},
   "source": [
    "Мы видим, что наши графики стали более \"спокойными\", и Африка поднялась на уровень Среднего Востока. Но небольшая тенденция к росту температур сохранилась. Интересно, что в 2010 году в Европе наблюдалось снижение температуры, а на Среднем Востоке был симметричный скачок (кстати, в этом году в Москве было аномально жаркое лето - возможно, её в этом году зацепил антициклон со Среднего Востока??)."
   ]
  },
  {
   "cell_type": "code",
   "execution_count": 178,
   "metadata": {},
   "outputs": [
    {
     "data": {
      "image/png": "[encoded data removed]",
      "text/plain": [
       "<Figure size 864x144 with 2 Axes>"
      ]
     },
     "metadata": {
      "needs_background": "light"
     },
     "output_type": "display_data"
    }
   ],
   "source": [
    "city_temperature_r_c = city_temperature.pivot_table(\n",
    "                        index='Month', \n",
    "                        columns='Region', \n",
    "                        values='AvgTemperatureC', \n",
    "                        aggfunc='mean').fillna(0).applymap(float)\n",
    "ax = sns.heatmap(city_temperature_r_c)"
   ]
  },
  {
   "cell_type": "markdown",
   "metadata": {},
   "source": [
    "Тепловая карта практически не изменилась, но данные по Африке выглядят более достоверно."
   ]
  },
  {
   "cell_type": "code",
   "execution_count": 179,
   "metadata": {},
   "outputs": [
    {
     "data": {
      "text/plain": [
       "<BarContainer object of 7 artists>"
      ]
     },
     "execution_count": 179,
     "metadata": {},
     "output_type": "execute_result"
    },
    {
     "data": {
      "image/png": "[encoded data removed]",
      "text/plain": [
       "<Figure size 864x144 with 1 Axes>"
      ]
     },
     "metadata": {
      "needs_background": "light"
     },
     "output_type": "display_data"
    }
   ],
   "source": [
    "city_temperature_meant = city_temperature.groupby('Region')[['AvgTemperatureC']].mean()\\\n",
    "    .sort_values('AvgTemperatureC', ascending=False).reset_index()\n",
    "plt.barh(city_temperature_meant['Region'], city_temperature_meant['AvgTemperatureC'])"
   ]
  },
  {
   "cell_type": "markdown",
   "metadata": {},
   "source": [
    "И теперь на столбчатой диаграмме мы видим, что Африка, как ей и положено, заняла почётное место самого жаркого места на планете!!!"
   ]
  },
  {
   "cell_type": "markdown",
   "metadata": {},
   "source": [
    "Теперь узнаем, какая в целом температура на нашей планете согласно статистике. Построим **distplot**"
   ]
  },
  {
   "cell_type": "code",
   "execution_count": 180,
   "metadata": {},
   "outputs": [
    {
     "data": {
      "text/plain": [
       "<matplotlib.axes._subplots.AxesSubplot at 0x21fcbc090c8>"
      ]
     },
     "execution_count": 180,
     "metadata": {},
     "output_type": "execute_result"
    },
    {
     "data": {
      "image/png": "[encoded data removed]",
      "text/plain": [
       "<Figure size 864x144 with 1 Axes>"
      ]
     },
     "metadata": {
      "needs_background": "light"
     },
     "output_type": "display_data"
    }
   ],
   "source": [
    "sns.distplot(city_temperature.AvgTemperatureC)"
   ]
  },
  {
   "cell_type": "markdown",
   "metadata": {},
   "source": [
    "Мы видим, что температура имеет номальное распределение, смещённое вправо, и больше всего дней за нашу историю наблюдений имела место температура около 30 градусов, что не может не радовать!!!"
   ]
  }
 ],
 "metadata": {
  "kernelspec": {
   "display_name": "Python 3",
   "language": "python",
   "name": "python3"
  },
  "language_info": {
   "codemirror_mode": {
    "name": "ipython",
    "version": 3
   },
   "file_extension": ".py",
   "mimetype": "text/x-python",
   "name": "python",
   "nbconvert_exporter": "python",
   "pygments_lexer": "ipython3",
   "version": "3.7.6"
  }
 },
 "nbformat": 4,
 "nbformat_minor": 4
}
