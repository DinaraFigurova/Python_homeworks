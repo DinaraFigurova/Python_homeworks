{
 "cells": [
  {
   "cell_type": "markdown",
   "metadata": {},
   "source": [
    "**Домашняя работа №2**"
   ]
  },
  {
   "cell_type": "markdown",
   "metadata": {},
   "source": [
    "*Задание - уровень 0:*"
   ]
  },
  {
   "cell_type": "markdown",
   "metadata": {},
   "source": [
    "Создайте матрицу 3 на 3, заполненную числами от 1 до 9.\n",
    "Прибавьте к ней матрицу с единицами на диагонали.\n",
    "Умножьте полученную матрицу на вектор (1, 2, 3).\n",
    "Посчитайте обратную матрицу к полученной матрице."
   ]
  },
  {
   "cell_type": "markdown",
   "metadata": {},
   "source": [
    "*Выполнение:*"
   ]
  },
  {
   "cell_type": "code",
   "execution_count": 141,
   "metadata": {},
   "outputs": [],
   "source": [
    "import numpy as np"
   ]
  },
  {
   "cell_type": "code",
   "execution_count": 142,
   "metadata": {},
   "outputs": [
    {
     "data": {
      "text/plain": [
       "array([[1, 2, 3],\n",
       "       [4, 5, 6],\n",
       "       [7, 8, 9]])"
      ]
     },
     "execution_count": 142,
     "metadata": {},
     "output_type": "execute_result"
    }
   ],
   "source": [
    "A = np.array(([1,2,3],[4,5,6],[7,8,9]))\n",
    "A"
   ]
  },
  {
   "cell_type": "code",
   "execution_count": 143,
   "metadata": {},
   "outputs": [
    {
     "data": {
      "text/plain": [
       "array([[1, 0, 0],\n",
       "       [0, 1, 0],\n",
       "       [0, 0, 1]])"
      ]
     },
     "execution_count": 143,
     "metadata": {},
     "output_type": "execute_result"
    }
   ],
   "source": [
    "B = np.eye(3).astype(int)\n",
    "B"
   ]
  },
  {
   "cell_type": "code",
   "execution_count": 144,
   "metadata": {},
   "outputs": [
    {
     "data": {
      "text/plain": [
       "array([[ 2,  2,  3],\n",
       "       [ 4,  6,  6],\n",
       "       [ 7,  8, 10]])"
      ]
     },
     "execution_count": 144,
     "metadata": {},
     "output_type": "execute_result"
    }
   ],
   "source": [
    "C = A + B\n",
    "C"
   ]
  },
  {
   "cell_type": "code",
   "execution_count": 145,
   "metadata": {},
   "outputs": [
    {
     "data": {
      "text/plain": [
       "array([1, 2, 3])"
      ]
     },
     "execution_count": 145,
     "metadata": {},
     "output_type": "execute_result"
    }
   ],
   "source": [
    "v = np.array((1,2,3))\n",
    "v"
   ]
  },
  {
   "cell_type": "code",
   "execution_count": 146,
   "metadata": {},
   "outputs": [
    {
     "data": {
      "text/plain": [
       "array([15, 34, 53])"
      ]
     },
     "execution_count": 146,
     "metadata": {},
     "output_type": "execute_result"
    }
   ],
   "source": [
    "d = np.dot(C, v)\n",
    "d"
   ]
  },
  {
   "cell_type": "code",
   "execution_count": 138,
   "metadata": {},
   "outputs": [
    {
     "data": {
      "text/plain": [
       "array([[-6.00000000e+00, -2.00000000e+00,  3.00000000e+00],\n",
       "       [-1.00000000e+00,  5.00000000e-01,  2.22044605e-17],\n",
       "       [ 5.00000000e+00,  1.00000000e+00, -2.00000000e+00]])"
      ]
     },
     "execution_count": 138,
     "metadata": {},
     "output_type": "execute_result"
    }
   ],
   "source": [
    "C_inv = np.linalg.inv(C)\n",
    "C_inv"
   ]
  },
  {
   "cell_type": "markdown",
   "metadata": {},
   "source": [
    "*Задание - уровень 1:*\n",
    "\n",
    "Дан объект в 2d пространстве:"
   ]
  },
  {
   "cell_type": "code",
   "execution_count": 1,
   "metadata": {},
   "outputs": [],
   "source": [
    "import numpy as np\n",
    "import matplotlib.pyplot as plt"
   ]
  },
  {
   "cell_type": "code",
   "execution_count": 38,
   "metadata": {},
   "outputs": [],
   "source": [
    "A = [\n",
    "[-100, -100, 1],\n",
    "[-100, 100, 1],\n",
    "[100, 100, 1],\n",
    "[0, 0, 1],\n",
    "[100, -100, 1],\n",
    "[-100, -100, 1]\n",
    "]"
   ]
  },
  {
   "cell_type": "code",
   "execution_count": 39,
   "metadata": {},
   "outputs": [],
   "source": [
    "A = np.array(A)"
   ]
  },
  {
   "cell_type": "code",
   "execution_count": 6,
   "metadata": {},
   "outputs": [
    {
     "data": {
      "text/plain": [
       "(-200.0, 200.0)"
      ]
     },
     "execution_count": 6,
     "metadata": {},
     "output_type": "execute_result"
    },
    {
     "data": {
      "image/png": "[encoded data removed]",
      "text/plain": [
       "<Figure size 432x288 with 1 Axes>"
      ]
     },
     "metadata": {
      "needs_background": "light"
     },
     "output_type": "display_data"
    }
   ],
   "source": [
    "x = A[:,0]\n",
    "y = A[:,1]\n",
    "plt.plot(x, y)\n",
    "plt.ylim([-200, 200])\n",
    "plt.xlim([-200, 200])"
   ]
  },
  {
   "cell_type": "markdown",
   "metadata": {},
   "source": [
    "При помощи матричных операций выполните:\n",
    "- Уменьшить объект в два раза.\n",
    "- Повернуть на 130 градусов.\n",
    "- Отразить объект относительно прямой y=x\n",
    "- Выполнить смещение объекта и масштабирование (применить 2 матрицы трансформаций). Смещение на (200, 300) и масштабирование на (0.5, 1,2)"
   ]
  },
  {
   "cell_type": "markdown",
   "metadata": {},
   "source": [
    "*Выполнение:*"
   ]
  },
  {
   "cell_type": "markdown",
   "metadata": {},
   "source": [
    "Уменьшить объект в два раза:"
   ]
  },
  {
   "cell_type": "code",
   "execution_count": 7,
   "metadata": {},
   "outputs": [],
   "source": [
    "TransformArray = np.array([\n",
    "    [0.5, 0, 0],\n",
    "    [0, 0.5, 0],\n",
    "    [0, 0, 1]\n",
    "])"
   ]
  },
  {
   "cell_type": "code",
   "execution_count": 8,
   "metadata": {},
   "outputs": [
    {
     "name": "stdout",
     "output_type": "stream",
     "text": [
      "[[-50 -50   1]\n",
      " [-50  50   1]\n",
      " [ 50  50   1]\n",
      " [  0   0   1]\n",
      " [ 50 -50   1]\n",
      " [-50 -50   1]]\n"
     ]
    }
   ],
   "source": [
    "B = []\n",
    "for point in A:\n",
    "    new_point=np.dot(TransformArray,np.transpose(point))\n",
    "    B.append(new_point)\n",
    "B = np.array(B).astype(int)\n",
    "print(B)"
   ]
  },
  {
   "cell_type": "code",
   "execution_count": 9,
   "metadata": {},
   "outputs": [
    {
     "data": {
      "text/plain": [
       "<matplotlib.legend.Legend at 0x590508>"
      ]
     },
     "execution_count": 9,
     "metadata": {},
     "output_type": "execute_result"
    },
    {
     "data": {
      "image/png": "[encoded data removed]",
      "text/plain": [
       "<Figure size 432x288 with 1 Axes>"
      ]
     },
     "metadata": {
      "needs_background": "light"
     },
     "output_type": "display_data"
    }
   ],
   "source": [
    "x = B[:,0]\n",
    "y = B[:,1]\n",
    "plt.plot(x, y)\n",
    "x = A[:,0]\n",
    "y = A[:,1]\n",
    "plt.plot(x, y, color='r')\n",
    "plt.ylim([-200, 200])\n",
    "plt.xlim([-200, 200])\n",
    "plt.legend(['новый', 'исходный'])"
   ]
  },
  {
   "cell_type": "markdown",
   "metadata": {},
   "source": [
    "Повернуть на 130 градусов:"
   ]
  },
  {
   "cell_type": "code",
   "execution_count": 96,
   "metadata": {},
   "outputs": [],
   "source": [
    "from math import cos, sin, pi\n",
    "\n",
    "theta = 130 * pi/180\n",
    "TransformArray = np.array([\n",
    "    [cos(theta), sin(theta), 0],\n",
    "    [-sin(theta), cos(theta), 0],\n",
    "    [0, 0, 1]\n",
    "])"
   ]
  },
  {
   "cell_type": "code",
   "execution_count": 97,
   "metadata": {},
   "outputs": [
    {
     "name": "stdout",
     "output_type": "stream",
     "text": [
      "[[ -12  140    1]\n",
      " [ 140   12    1]\n",
      " [  12 -140    1]\n",
      " [   0    0    1]\n",
      " [-140  -12    1]\n",
      " [ -12  140    1]]\n"
     ]
    }
   ],
   "source": [
    "B = []\n",
    "for point in A:\n",
    "    new_point=np.dot(TransformArray,np.transpose(point))\n",
    "    B.append(new_point)\n",
    "B = np.array(B).astype(int)\n",
    "print(B)"
   ]
  },
  {
   "cell_type": "code",
   "execution_count": 98,
   "metadata": {},
   "outputs": [
    {
     "data": {
      "text/plain": [
       "<matplotlib.legend.Legend at 0x9370a00>"
      ]
     },
     "execution_count": 98,
     "metadata": {},
     "output_type": "execute_result"
    },
    {
     "data": {
      "image/png": "[encoded data removed]",
      "text/plain": [
       "<Figure size 576x576 with 1 Axes>"
      ]
     },
     "metadata": {
      "needs_background": "light"
     },
     "output_type": "display_data"
    }
   ],
   "source": [
    "plt.figure(\n",
    "    figsize=(8, 8),\n",
    "    )\n",
    "x = B[:,0]\n",
    "y = B[:,1]\n",
    "plt.plot(x, y)\n",
    "x = A[:,0]\n",
    "y = A[:,1]\n",
    "plt.plot(x, y, color='r')\n",
    "plt.ylim([-200, 200])\n",
    "plt.xlim([-200, 200])\n",
    "plt.legend(['новый', 'исходный'])"
   ]
  },
  {
   "cell_type": "markdown",
   "metadata": {},
   "source": [
    "Отразить объект относительно прямой y=x:"
   ]
  },
  {
   "cell_type": "code",
   "execution_count": 87,
   "metadata": {},
   "outputs": [],
   "source": [
    "theta = 90 * pi/180\n",
    "TransformArray = np.array([\n",
    "    [cos(theta), -sin(theta), 0],\n",
    "    [sin(theta), cos(theta), 0],\n",
    "    [0, 0, 1]\n",
    "])"
   ]
  },
  {
   "cell_type": "code",
   "execution_count": 88,
   "metadata": {},
   "outputs": [
    {
     "name": "stdout",
     "output_type": "stream",
     "text": [
      "[[ 100 -100    1]\n",
      " [-100 -100    1]\n",
      " [-100  100    1]\n",
      " [   0    0    1]\n",
      " [ 100  100    1]\n",
      " [ 100 -100    1]]\n"
     ]
    }
   ],
   "source": [
    "B = []\n",
    "for point in A:\n",
    "    new_point=np.dot(TransformArray,np.transpose(point))\n",
    "    B.append(new_point)\n",
    "B = np.array(B).astype(int)\n",
    "print(B)"
   ]
  },
  {
   "cell_type": "code",
   "execution_count": 89,
   "metadata": {},
   "outputs": [
    {
     "data": {
      "text/plain": [
       "<matplotlib.legend.Legend at 0x8be7a48>"
      ]
     },
     "execution_count": 89,
     "metadata": {},
     "output_type": "execute_result"
    },
    {
     "data": {
      "image/png": "[encoded data removed]",
      "text/plain": [
       "<Figure size 576x576 with 1 Axes>"
      ]
     },
     "metadata": {
      "needs_background": "light"
     },
     "output_type": "display_data"
    }
   ],
   "source": [
    "plt.figure(\n",
    "    figsize=(8, 8),\n",
    "    )\n",
    "x = B[:,0]\n",
    "y = B[:,1]\n",
    "plt.plot(x, y)\n",
    "x = A[:,0]\n",
    "y = A[:,1]\n",
    "plt.plot(x, y, color='r')\n",
    "plt.ylim([-200, 200])\n",
    "plt.xlim([-200, 200])\n",
    "plt.legend(['новый', 'исходный'])"
   ]
  },
  {
   "cell_type": "code",
   "execution_count": null,
   "metadata": {},
   "outputs": [],
   "source": []
  },
  {
   "cell_type": "code",
   "execution_count": null,
   "metadata": {},
   "outputs": [],
   "source": []
  },
  {
   "cell_type": "code",
   "execution_count": null,
   "metadata": {},
   "outputs": [],
   "source": []
  },
  {
   "cell_type": "code",
   "execution_count": null,
   "metadata": {},
   "outputs": [],
   "source": []
  }
 ],
 "metadata": {
  "kernelspec": {
   "display_name": "Python 3",
   "language": "python",
   "name": "python3"
  },
  "language_info": {
   "codemirror_mode": {
    "name": "ipython",
    "version": 3
   },
   "file_extension": ".py",
   "mimetype": "text/x-python",
   "name": "python",
   "nbconvert_exporter": "python",
   "pygments_lexer": "ipython3",
   "version": "3.8.3"
  }
 },
 "nbformat": 4,
 "nbformat_minor": 4
}
