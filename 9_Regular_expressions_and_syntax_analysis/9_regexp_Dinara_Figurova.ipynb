{
 "cells": [
  {
   "cell_type": "code",
   "execution_count": 4,
   "metadata": {},
   "outputs": [],
   "source": [
    "import re"
   ]
  },
  {
   "cell_type": "code",
   "execution_count": 26,
   "metadata": {},
   "outputs": [
    {
     "name": "stdout",
     "output_type": "stream",
     "text": [
      "номер: Р125ВН, регион: 777\n",
      "Формат номера некоррекный!\n"
     ]
    }
   ],
   "source": [
    "# Задание 1\n",
    "\n",
    "number1 = 'Р125ВН777'\n",
    "number2 = 'Р125ВaН77'\n",
    "\n",
    "def num_check(number):\n",
    "    search = re.findall(r'([А|В|Е|К|М|Н|О|Р|С|Т|У|Х]\\d{3}[А|В|Е|К|М|Н|О|Р|С|Т|У|Х]{2})(\\d{2,3})', number)\n",
    "    if search:\n",
    "        reg = search[0][1]\n",
    "        num = search[0][0]\n",
    "        return print(f'номер: {num}, регион: {reg}')\n",
    "    return print('Формат номера некоррекный!')\n",
    "\n",
    "\n",
    "num_check(number1)\n",
    "num_check(number2)"
   ]
  },
  {
   "cell_type": "code",
   "execution_count": 17,
   "metadata": {},
   "outputs": [],
   "source": [
    "# Задание 2\n",
    "\n",
    "mail1 = 'AbCd@mail.ru'\n",
    "mail2 = 'AbCd@mailcom'\n",
    "mail3 = 'AbCd@mail.com'\n",
    "mail4 = 'AbCd\\@mail.com'\n",
    "\n",
    "def mail_check(mail):\n",
    "    ch = re.findall(r'^[a-zA-Z0-9_-]{4,}@[a-zA-Z0-9-]{2,}\\.[a-z]{2,4}$', mail)\n",
    "    if ch:\n",
    "        return print(f'{ch}')\n",
    "    return print('Формат адреса некоррекный!')"
   ]
  },
  {
   "cell_type": "code",
   "execution_count": 18,
   "metadata": {},
   "outputs": [
    {
     "name": "stdout",
     "output_type": "stream",
     "text": [
      "['AbCd@mail.ru']\n",
      "Формат адреса некоррекный!\n",
      "['AbCd@mail.com']\n",
      "Формат адреса некоррекный!\n"
     ]
    }
   ],
   "source": [
    "mail_check(mail1)\n",
    "mail_check(mail2)\n",
    "mail_check(mail3)\n",
    "mail_check(mail4)"
   ]
  },
  {
   "cell_type": "code",
   "execution_count": 21,
   "metadata": {},
   "outputs": [
    {
     "data": {
      "text/plain": [
       "'скоро придёт лето красное'"
      ]
     },
     "execution_count": 21,
     "metadata": {},
     "output_type": "execute_result"
    }
   ],
   "source": [
    "# Задание 3\n",
    "\n",
    "s = \"Скоро скоро придёт придёт лето лето лето красное\"\n",
    "re.sub(r'\\b([^\\W\\d_]+)(\\s+\\1)+\\b', r'\\1', s.lower())"
   ]
  },
  {
   "cell_type": "code",
   "execution_count": 24,
   "metadata": {},
   "outputs": [
    {
     "name": "stdout",
     "output_type": "stream",
     "text": [
      "+7(955)-555-55-55\n",
      "+7(955)-555-55-55\n",
      "+7(955)-555-55-55\n",
      "+7(955)-555-55-55\n",
      "+7(955)-555-55-55\n",
      "Формат номера некоррекный!\n"
     ]
    }
   ],
   "source": [
    "# Задание 4\n",
    "\n",
    "phone1 = '+7 955 555-55-55'\n",
    "phone2 = '9555555555'\n",
    "phone3 = '89555555555'\n",
    "phone3 = '+7 955 555 55 55'\n",
    "phone4 = '7(955) 555-55-55'\n",
    "phone5 = '+7+955+555+55+55'\n",
    "phone6 = 'lsajklsajkljsa'\n",
    "\n",
    "\n",
    "def phone_check(phone):\n",
    "    text = r'^(\\+7?|8?|7?)([-+\\s]?)([\\(]?)(\\d{3})([\\)]?)([-+\\s]?)(\\d{3})([-+\\s]?)(\\d{2})([-+\\s]?)(\\d{2})$' \n",
    "    if re.findall(text, phone):\n",
    "        num = re.sub(text, r'+7(\\4)-\\7-\\9-\\11', phone)\n",
    "        return print(f'{num}')\n",
    "    return print('Формат номера некоррекный!')\n",
    "\n",
    "phone_check(phone1)\n",
    "phone_check(phone2)\n",
    "phone_check(phone3)\n",
    "phone_check(phone4)\n",
    "phone_check(phone5)\n",
    "phone_check(phone6)"
   ]
  },
  {
   "cell_type": "code",
   "execution_count": null,
   "metadata": {},
   "outputs": [],
   "source": []
  },
  {
   "cell_type": "code",
   "execution_count": null,
   "metadata": {},
   "outputs": [],
   "source": []
  }
 ],
 "metadata": {
  "kernelspec": {
   "display_name": "Python 3",
   "language": "python",
   "name": "python3"
  },
  "language_info": {
   "codemirror_mode": {
    "name": "ipython",
    "version": 3
   },
   "file_extension": ".py",
   "mimetype": "text/x-python",
   "name": "python",
   "nbconvert_exporter": "python",
   "pygments_lexer": "ipython3",
   "version": "3.7.6"
  }
 },
 "nbformat": 4,
 "nbformat_minor": 4
}
