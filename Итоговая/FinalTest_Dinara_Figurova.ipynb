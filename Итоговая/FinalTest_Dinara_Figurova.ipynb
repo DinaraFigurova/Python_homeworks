{
 "cells": [
  {
   "cell_type": "code",
   "execution_count": 61,
   "metadata": {},
   "outputs": [],
   "source": [
    "import matplotlib.pyplot as plt\n",
    "import numpy as np\n",
    "\n",
    "from scipy.optimize import minimize\n",
    "%matplotlib inline\n",
    "\n",
    "from scipy.misc import derivative\n",
    "from sympy import diff, symbols, cos, sin\n",
    "\n",
    "from scipy.optimize import approx_fprime\n",
    "from sympy import *\n",
    "x, y = symbols('x y')"
   ]
  },
  {
   "cell_type": "markdown",
   "metadata": {},
   "source": [
    "### Задание 1"
   ]
  },
  {
   "cell_type": "markdown",
   "metadata": {},
   "source": [
    "Дана матрица рейтингов фильмов (строки - пользователи (10 человек), столбцы - фильмы (15 фильмов))"
   ]
  },
  {
   "cell_type": "code",
   "execution_count": 62,
   "metadata": {},
   "outputs": [],
   "source": [
    "raitings = np.array([[ 4,  4,  9,  4,  1,  6, 10,  7,  9,  6,  9,  2,  8,  6,  6],\n",
    "                     [ 9,  2,  5, 10,  7,  8, 10,  5,  6,  2,  1,  6,  8,  9,  7],\n",
    "                     [ 1,  6,  8,  8,  4,  9,  3,  8, 10,  5,  2,  6,  8,  1,  6],\n",
    "                     [ 6,  1,  9,  7,  7,  9,  2,  3,  5,  1,  6,  6,  3,  2,  7],\n",
    "                     [ 3,  7,  3,  5,  7,  9,  9,  6,  2,  9,  1,  2,  8, 10,  6],\n",
    "                     [ 8,  3,  7,  3,  8,  6,  1,  8,  8,  6,  1,  9,  4, 10,  1],\n",
    "                     [ 9,  8,  4,  8,  8, 10,  6,  1,  1,  2,  9,  5,  2,  7,  2],\n",
    "                     [ 4,  1,  6,  4,  3, 10,  4,  4,  2,  8,  7,  9,  3,  8,  3],\n",
    "                     [ 2,  7,  7,  6, 10,  6,  8,  9,  8,  6, 10,  1,  7, 10,  4],\n",
    "                     [ 5, 10,  8,  8,  9,  7,  2,  9,  9, 10,  8,  8,  8,  6, 10]])"
   ]
  },
  {
   "cell_type": "markdown",
   "metadata": {},
   "source": [
    "<b> a) </b> Необходимо найти наиболее похожего пользователя по косинусной метрике для каждого из (ответ: 10 пар вида (x, y), где y - наиболее похожий пользователь на пользователя x)."
   ]
  },
  {
   "cell_type": "code",
   "execution_count": 73,
   "metadata": {},
   "outputs": [],
   "source": [
    "def cosine( a, b ):\n",
    "    \"\"\"\n",
    "    Подсчет косинуса угла между векторами a, b по их координатам\n",
    "    \"\"\"\n",
    "    \n",
    "    # длины векторов\n",
    "    aLength = np.linalg.norm( a )\n",
    "    bLength = np.linalg.norm( b )\n",
    "    \n",
    "    return np.dot( a, b ) / ( aLength * bLength )\n",
    "\n"
   ]
  },
  {
   "cell_type": "code",
   "execution_count": 113,
   "metadata": {},
   "outputs": [
    {
     "name": "stdout",
     "output_type": "stream",
     "text": [
      "1 [ 4  4  9  4  1  6 10  7  9  6  9  2  8  6  6] 1.0\n",
      "2 [ 9  2  5 10  7  8 10  5  6  2  1  6  8  9  7] 0.8260291914926011\n",
      "3 [ 1  6  8  8  4  9  3  8 10  5  2  6  8  1  6] 0.8492152913329328\n",
      "4 [6 1 9 7 7 9 2 3 5 1 6 6 3 2 7] 0.7834011593236074\n",
      "5 [ 3  7  3  5  7  9  9  6  2  9  1  2  8 10  6] 0.8191763207928605\n",
      "6 [ 8  3  7  3  8  6  1  8  8  6  1  9  4 10  1] 0.7411854787309532\n",
      "7 [ 9  8  4  8  8 10  6  1  1  2  9  5  2  7  2] 0.7273582830552573\n",
      "8 [ 4  1  6  4  3 10  4  4  2  8  7  9  3  8  3] 0.8096752188740591\n",
      "9 [ 2  7  7  6 10  6  8  9  8  6 10  1  7 10  4] 0.9106598233573044\n",
      "10 [ 5 10  8  8  9  7  2  9  9 10  8  8  8  6 10] 0.8601077572660832\n"
     ]
    }
   ],
   "source": [
    "# Для первого пользователя:\n",
    "user_s = raitings[0]\n",
    "users = []\n",
    "for i, user in enumerate(raitings):\n",
    "    user = np.array(raitings[i])\n",
    "    users.append(i+1)\n",
    "    print( i+1, user, cosine(user_s, user ))"
   ]
  },
  {
   "cell_type": "code",
   "execution_count": 111,
   "metadata": {},
   "outputs": [
    {
     "data": {
      "text/plain": [
       "array([[0.        , 0.17397081, 0.15078471, 0.21659884, 0.18082368,\n",
       "        0.25881452, 0.27264172, 0.19032478, 0.08934018, 0.13989224],\n",
       "       [0.17397081, 0.        , 0.18765675, 0.15364663, 0.12861948,\n",
       "        0.17286893, 0.17370316, 0.19973997, 0.17473692, 0.18031873],\n",
       "       [0.15078471, 0.18765675, 0.        , 0.15330626, 0.21605701,\n",
       "        0.20902015, 0.32383777, 0.23710448, 0.17887923, 0.08126949],\n",
       "       [0.21659884, 0.15364663, 0.15330626, 0.        , 0.30846591,\n",
       "        0.21334208, 0.16725789, 0.17065333, 0.2229334 , 0.1411313 ],\n",
       "       [0.18082368, 0.12861948, 0.21605701, 0.30846591, 0.        ,\n",
       "        0.2235566 , 0.21799532, 0.18763131, 0.12051523, 0.15425211],\n",
       "       [0.25881452, 0.17286893, 0.20902015, 0.21334208, 0.2235566 ,\n",
       "        0.        , 0.25988199, 0.15548315, 0.19377124, 0.14485092],\n",
       "       [0.27264172, 0.17370316, 0.32383777, 0.16725789, 0.21799532,\n",
       "        0.25988199, 0.        , 0.17330826, 0.18869956, 0.20845282],\n",
       "       [0.19032478, 0.19973997, 0.23710448, 0.17065333, 0.18763131,\n",
       "        0.15548315, 0.17330826, 0.        , 0.2018724 , 0.16317771],\n",
       "       [0.08934018, 0.17473692, 0.17887923, 0.2229334 , 0.12051523,\n",
       "        0.19377124, 0.18869956, 0.2018724 , 0.        , 0.09906203],\n",
       "       [0.13989224, 0.18031873, 0.08126949, 0.1411313 , 0.15425211,\n",
       "        0.14485092, 0.20845282, 0.16317771, 0.09906203, 0.        ]])"
      ]
     },
     "execution_count": 111,
     "metadata": {},
     "output_type": "execute_result"
    }
   ],
   "source": [
    "from sklearn.metrics.pairwise import pairwise_distances\n",
    "raiting_cos = pairwise_distances(raitings, metric='cosine')\n",
    "raiting_cos"
   ]
  },
  {
   "cell_type": "code",
   "execution_count": 112,
   "metadata": {},
   "outputs": [
    {
     "name": "stdout",
     "output_type": "stream",
     "text": [
      "Для пользователей x [1, 2, 3, 4, 5, 6, 7, 8, 9, 10] по порядку похожести идут пользователи y [9, 5, 10, 10, 9, 10, 4, 6, 1, 3] \n"
     ]
    }
   ],
   "source": [
    "user_index = [] \n",
    "for i in raiting_cos: \n",
    "   a = list(i).index(np.min(i[np.nonzero(i)])) \n",
    "   user_index.append(a+1) \n",
    "user_index\n",
    "print (f'Для пользователей x {users} по порядку похожести идут пользователи y {user_index} ')"
   ]
  },
  {
   "cell_type": "markdown",
   "metadata": {},
   "source": [
    "<b> b) </b>Предположим, вы захотели сжать признаковые описания пользователя с 15 фильмов, до, скажем, 5-ти признаков, как вы это сделаете?"
   ]
  },
  {
   "cell_type": "code",
   "execution_count": 5,
   "metadata": {},
   "outputs": [],
   "source": [
    "from sklearn.decomposition import PCA\n",
    "pca = PCA(n_components = 5)\n",
    "raitingsPCAreduced = pca.fit_transform(raitings)"
   ]
  },
  {
   "cell_type": "code",
   "execution_count": 9,
   "metadata": {},
   "outputs": [
    {
     "name": "stdout",
     "output_type": "stream",
     "text": [
      "Sklearn PCA reduced raitings: \n",
      " [[-5.30986101  1.92919845 -4.93300027  2.70188013  5.50497886]\n",
      " [ 2.87763403  2.71659559  1.40592782  7.26325751 -4.50322291]\n",
      " [-4.94010408 -6.68861167 -0.94550184  3.61556661 -0.68969272]\n",
      " [ 5.14939908 -6.28027284 -4.65978558  1.09024004 -1.01471112]\n",
      " [-1.37488691  7.54357985  4.00834369  2.1284001  -0.16324949]\n",
      " [ 2.65341956 -3.77075601  8.58430748 -1.46628319  1.67401769]\n",
      " [ 8.61573944  3.78603335 -4.02721027 -4.37582577 -3.13880277]\n",
      " [ 5.39658258 -1.0170466   1.01456742 -1.89512837  6.54883538]\n",
      " [-5.7843488   5.29857107 -1.48083611 -3.71295542  0.21312695]\n",
      " [-7.2835739  -3.51729118  1.03318766 -5.34915166 -4.43127987]]\n"
     ]
    }
   ],
   "source": [
    "print('Sklearn PCA reduced raitings: \\n', raitingsPCAreduced)"
   ]
  },
  {
   "cell_type": "code",
   "execution_count": null,
   "metadata": {},
   "outputs": [],
   "source": []
  },
  {
   "cell_type": "markdown",
   "metadata": {},
   "source": [
    "### Задание 2"
   ]
  },
  {
   "cell_type": "markdown",
   "metadata": {},
   "source": [
    "Вычислите производную $tg^2(sin(x) + cos(2x+3))$ в точке $x_0=1$ на python и на бумаге (просто подставить точку в производную и ничего не упрощать)."
   ]
  },
  {
   "cell_type": "code",
   "execution_count": 15,
   "metadata": {},
   "outputs": [],
   "source": [
    "def f(x):\n",
    "    return np.tan(np.sin(x) + np.cos(2*x+3))**2"
   ]
  },
  {
   "cell_type": "code",
   "execution_count": 128,
   "metadata": {},
   "outputs": [
    {
     "data": {
      "text/latex": [
       "$\\displaystyle \\left(- 4 \\sin{\\left(2 x + 3 \\right)} \\cos{\\left(2 x + 3 \\right)} + \\cos{\\left(x \\right)}\\right) \\left(\\tan^{2}{\\left(\\sin{\\left(x \\right)} + \\cos^{2}{\\left(2 x + 3 \\right)} \\right)} + 1\\right)$"
      ],
      "text/plain": [
       "(-4*sin(2*x + 3)*cos(2*x + 3) + cos(x))*(tan(sin(x) + cos(2*x + 3)**2)**2 + 1)"
      ]
     },
     "execution_count": 128,
     "metadata": {},
     "output_type": "execute_result"
    }
   ],
   "source": [
    "diff(tan(sin(x) + cos(2*x+3)**2))"
   ]
  },
  {
   "cell_type": "code",
   "execution_count": 16,
   "metadata": {},
   "outputs": [
    {
     "data": {
      "text/plain": [
       "55.3859176464222"
      ]
     },
     "execution_count": 16,
     "metadata": {},
     "output_type": "execute_result"
    }
   ],
   "source": [
    "derivative(f, 1.0, dx=1e-6)"
   ]
  },
  {
   "cell_type": "code",
   "execution_count": 129,
   "metadata": {},
   "outputs": [
    {
     "data": {
      "text/latex": [
       "$\\displaystyle 4.38185372806127$"
      ],
      "text/plain": [
       "4.38185372806127"
      ]
     },
     "execution_count": 129,
     "metadata": {},
     "output_type": "execute_result"
    }
   ],
   "source": [
    "expr = tan(sin(x) + cos(2*x+3))**2\n",
    "expr.evalf(subs={x: 1})"
   ]
  },
  {
   "cell_type": "markdown",
   "metadata": {},
   "source": [
    "### Задание 3"
   ]
  },
  {
   "cell_type": "markdown",
   "metadata": {},
   "source": [
    "Дана функция с неизвестными параметрами a и b, вам также известны значения функции fx в точках x. Найдите оптимальные параметры a, b, минимизирующие абсолютную ошибку <b>error</b>"
   ]
  },
  {
   "cell_type": "code",
   "execution_count": 116,
   "metadata": {},
   "outputs": [],
   "source": [
    "def f(x, a, b):\n",
    "    return np.e**a * np.sin(b*x) + x"
   ]
  },
  {
   "cell_type": "code",
   "execution_count": 117,
   "metadata": {},
   "outputs": [],
   "source": [
    "x = np.array([0.        , 0.26315789, 0.52631579, 0.78947368, 1.05263158,\n",
    "              1.31578947, 1.57894737, 1.84210526, 2.10526316, 2.36842105,\n",
    "              2.63157895, 2.89473684, 3.15789474, 3.42105263, 3.68421053,\n",
    "              3.94736842, 4.21052632, 4.47368421, 4.73684211, 5.        ])"
   ]
  },
  {
   "cell_type": "code",
   "execution_count": 118,
   "metadata": {},
   "outputs": [],
   "source": [
    "fx = np.array([  0.        , -12.01819092, -18.90968634, -17.68786571,\n",
    "                -8.7529108 ,   4.27524517,  16.06801336,  21.81250213,\n",
    "                19.22059845,   9.48411207,  -3.22273056, -13.48576488,\n",
    "               -16.91096359, -11.95866834,  -0.58630088,  12.56873816,\n",
    "                22.12489421,  24.20292139,  18.04522521,   6.33211092])"
   ]
  },
  {
   "cell_type": "code",
   "execution_count": 119,
   "metadata": {},
   "outputs": [
    {
     "data": {
      "image/png": "[encoded data removed]",
      "text/plain": [
       "<Figure size 432x288 with 1 Axes>"
      ]
     },
     "metadata": {
      "needs_background": "light"
     },
     "output_type": "display_data"
    }
   ],
   "source": [
    "plt.plot(x, fx)\n",
    "plt.show()"
   ]
  },
  {
   "cell_type": "code",
   "execution_count": 120,
   "metadata": {},
   "outputs": [],
   "source": [
    "def error(params):\n",
    "    return np.sum(np.abs(fx - f(x, params[0], params[1])))"
   ]
  },
  {
   "cell_type": "code",
   "execution_count": 121,
   "metadata": {},
   "outputs": [
    {
     "name": "stdout",
     "output_type": "stream",
     "text": [
      "Optimization terminated successfully.\n",
      "         Current function value: 242.826681\n",
      "         Iterations: 64\n",
      "         Function evaluations: 126\n"
     ]
    }
   ],
   "source": [
    "res = minimize(error, [2,5], method='nelder-mead', options={'xtol': 1e-6, 'disp': True})"
   ]
  },
  {
   "cell_type": "code",
   "execution_count": 122,
   "metadata": {},
   "outputs": [
    {
     "name": "stderr",
     "output_type": "stream",
     "text": [
      "D:\\Anaconda\\lib\\site-packages\\scipy\\optimize\\_minimize.py:623: OptimizeWarning: Unknown solver options: xtol\n",
      "  return _minimize_cobyla(fun, x0, args, constraints, **options)\n"
     ]
    },
    {
     "data": {
      "text/plain": [
       "     fun: 242.84016777994267\n",
       "   maxcv: 0.0\n",
       " message: 'Optimization terminated successfully.'\n",
       "    nfev: 35\n",
       "  status: 1\n",
       " success: True\n",
       "       x: array([2.08279338, 5.05970416])"
      ]
     },
     "execution_count": 122,
     "metadata": {},
     "output_type": "execute_result"
    }
   ],
   "source": [
    "res1 = minimize(error, [2,5], method='COBYLA', options={'xtol': 1e-6, 'disp': True})\n",
    "res1"
   ]
  },
  {
   "cell_type": "code",
   "execution_count": null,
   "metadata": {},
   "outputs": [],
   "source": []
  },
  {
   "cell_type": "markdown",
   "metadata": {},
   "source": [
    "### Задание 4"
   ]
  },
  {
   "cell_type": "markdown",
   "metadata": {},
   "source": [
    "Создайте собственную дискретную случайную величину с 20 значениями. Сгенерируйте 1000 выборок размера 50. Посчитайте среднее для каждой выборки. Постройте гистограмму распределения средних."
   ]
  },
  {
   "cell_type": "code",
   "execution_count": 50,
   "metadata": {},
   "outputs": [
    {
     "data": {
      "image/png": "[encoded data removed]",
      "text/plain": [
       "<Figure size 432x288 with 1 Axes>"
      ]
     },
     "metadata": {
      "needs_background": "light"
     },
     "output_type": "display_data"
    }
   ],
   "source": [
    "num = 50\n",
    "\n",
    "num_sum = 1000\n",
    "X1 = np.zeros([num_sum])\n",
    "for i in range(num_sum):\n",
    "    X1[i] = np.sum(np.random.randint(1, 21, size=num))/num\n",
    "plt.hist(X1, 50)\n",
    "plt.xlabel('Среднее значение выборки')\n",
    "plt.ylabel('Количество выпадений среднего')\n",
    "plt.title('Гистограмма распределения средних',fontsize=12)\n",
    "plt.show()"
   ]
  },
  {
   "cell_type": "code",
   "execution_count": null,
   "metadata": {},
   "outputs": [],
   "source": []
  },
  {
   "cell_type": "markdown",
   "metadata": {},
   "source": [
    "### Задание 5"
   ]
  },
  {
   "cell_type": "markdown",
   "metadata": {},
   "source": [
    "Найдите собственные значения и собственные вектора матрицы (на python и на бумаге)\n",
    "\n",
    "[[1, 4],\n",
    "\n",
    " [1, 1]]"
   ]
  },
  {
   "cell_type": "code",
   "execution_count": 17,
   "metadata": {},
   "outputs": [
    {
     "name": "stdout",
     "output_type": "stream",
     "text": [
      "[[1 4]\n",
      " [1 1]]\n"
     ]
    }
   ],
   "source": [
    "m = np.array([[1, 4],\n",
    "[1, 1]])\n",
    "print(m)"
   ]
  },
  {
   "cell_type": "code",
   "execution_count": 18,
   "metadata": {},
   "outputs": [],
   "source": [
    "w, v = np.linalg.eig(m)"
   ]
  },
  {
   "cell_type": "code",
   "execution_count": 19,
   "metadata": {},
   "outputs": [
    {
     "name": "stdout",
     "output_type": "stream",
     "text": [
      "Собственное значение 3.0000000000000004\n",
      "соответствующий ему собственный вектор [0.89442719 0.4472136 ]\n",
      "Собственное значение -0.9999999999999996\n",
      "соответствующий ему собственный вектор [-0.89442719  0.4472136 ]\n"
     ]
    }
   ],
   "source": [
    "for i in range(len(w)):\n",
    "    print(\"Собственное значение \" + str(w[i]))\n",
    "    print(\"соответствующий ему собственный вектор \" + str(v[:,i]))"
   ]
  },
  {
   "cell_type": "code",
   "execution_count": null,
   "metadata": {},
   "outputs": [],
   "source": []
  }
 ],
 "metadata": {
  "kernelspec": {
   "display_name": "Python 3",
   "language": "python",
   "name": "python3"
  },
  "language_info": {
   "codemirror_mode": {
    "name": "ipython",
    "version": 3
   },
   "file_extension": ".py",
   "mimetype": "text/x-python",
   "name": "python",
   "nbconvert_exporter": "python",
   "pygments_lexer": "ipython3",
   "version": "3.8.3"
  }
 },
 "nbformat": 4,
 "nbformat_minor": 2
}
